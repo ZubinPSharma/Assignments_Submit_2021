{
 "cells": [
  {
   "cell_type": "markdown",
   "metadata": {},
   "source": [
    "## 1.0 Dictionaries: 20pts"
   ]
  },
  {
   "cell_type": "markdown",
   "metadata": {},
   "source": [
    "1.1 (2pts) Create a Python dictionary, my_dict, with three key/value pairs (1:\"one\", 2:\"two\", 3:\"three\"). Then, print the result of calling the my_dict.items()."
   ]
  },
  {
   "cell_type": "code",
   "execution_count": 16,
   "metadata": {},
   "outputs": [
    {
     "name": "stdout",
     "output_type": "stream",
     "text": [
      "dict_items([('1', 'one'), ('2', 'two'), ('3', 'three')])\n"
     ]
    }
   ],
   "source": [
    "my_dict = {\"1\": \"one\", \"2\": \"two\", \"3\": \"three\"}\n",
    "print(my_dict.items())"
   ]
  },
  {
   "cell_type": "markdown",
   "metadata": {},
   "source": [
    "1.2 (2pts) Now print the result of using .keys()"
   ]
  },
  {
   "cell_type": "code",
   "execution_count": 17,
   "metadata": {},
   "outputs": [
    {
     "name": "stdout",
     "output_type": "stream",
     "text": [
      "dict_keys(['1', '2', '3'])\n"
     ]
    }
   ],
   "source": [
    "print(my_dict.keys())"
   ]
  },
  {
   "cell_type": "markdown",
   "metadata": {},
   "source": [
    "1.3 (2pts) Now print the result of using .values():"
   ]
  },
  {
   "cell_type": "code",
   "execution_count": 18,
   "metadata": {},
   "outputs": [
    {
     "name": "stdout",
     "output_type": "stream",
     "text": [
      "dict_values(['one', 'two', 'three'])\n"
     ]
    }
   ],
   "source": [
    "print(my_dict.values())"
   ]
  },
  {
   "cell_type": "markdown",
   "metadata": {},
   "source": [
    "1.4 (2pts) Use a for loop to print all of the values in the dictionary you create:"
   ]
  },
  {
   "cell_type": "code",
   "execution_count": 19,
   "metadata": {},
   "outputs": [
    {
     "name": "stdout",
     "output_type": "stream",
     "text": [
      "1\n",
      "2\n",
      "3\n"
     ]
    }
   ],
   "source": [
    "my_dict = {\"1\": \"one\", \"2\": \"two\", \"3\": \"three\"}\n",
    "i = 0\n",
    "\n",
    "for value in my_dict:\n",
    "    print(value)\n",
    "\n"
   ]
  },
  {
   "cell_type": "markdown",
   "metadata": {},
   "source": [
    "1.5 (4pts) Given the following dictionary:\n",
    "\n",
    "inventory = {\n",
    "    'gold' : 500,\n",
    "    'pouch' : ['flint', 'twine', 'gemstone'],\n",
    "    'backpack' : ['xylophone','dagger', 'bedroll','bread loaf']\n",
    "}\n",
    "\n",
    "Do the followings:\n",
    "\n",
    "Add a key to inventory called 'pocket'.\n",
    "\n",
    "Set the value of 'pocket' to be a list consisting of the strings 'seashell', 'strange berry', and 'lint'.\n",
    "\n",
    ".sort( )the items in the list stored under the 'backpack' key.\n",
    "\n",
    "Then .remove('dagger') from the list of items stored under the 'backpack' key.\n",
    "Add 50 to the number stored under the 'gold' key."
   ]
  },
  {
   "cell_type": "code",
   "execution_count": 20,
   "metadata": {},
   "outputs": [
    {
     "name": "stdout",
     "output_type": "stream",
     "text": [
      "{'gold': 500, 'pouch': ['flint', 'twine', 'gemstone'], 'backpack': ['bedroll', 'bread loaf', 'xylophone'], 'pocket': ['seashell', 'strange berry', 'lint']}\n"
     ]
    }
   ],
   "source": [
    "inventory = {'gold' : 500, 'pouch' : ['flint', 'twine', 'gemstone'],'backpack' : ['xylophone','dagger', 'bedroll','bread loaf']}\n",
    "\n",
    "inventory[\"pocket\"] = ['seashell', 'strange berry', 'lint']\n",
    "inventory[\"backpack\"].sort()\n",
    "inventory[\"backpack\"].remove('dagger')\n",
    "             \n",
    "print(inventory)"
   ]
  },
  {
   "cell_type": "markdown",
   "metadata": {},
   "source": [
    "1.6 (4pts) Comment each line of the following code:\n",
    "\n",
    "Note: good practices for commenting are\n",
    "1. Capitalize the first letter\n",
    "2. leave a space between the # and your comments\n",
    "3. Keep your comments short and concise"
   ]
  },
  {
   "cell_type": "code",
   "execution_count": 21,
   "metadata": {},
   "outputs": [
    {
     "name": "stdout",
     "output_type": "stream",
     "text": [
      "16\n"
     ]
    }
   ],
   "source": [
    "# Your annotation: An empty dictionary called count has been created\n",
    "count={}\n",
    "# The first key in the dictionary is the list 1, 2, 4, and the value of 5\n",
    "count[(1,2,4)] = 5\n",
    "# The second key in the dictionary is the list 4, 2, 1 and the value of 7\n",
    "count[(4,2,1)] = 7\n",
    "# The third key in the dictionary is the list 1, 2 and the value of 6\n",
    "count[(1,2)] = 6\n",
    "# The second key in the dictionary list 4, 2, 1 has been reassigned a value of 2\n",
    "count[(4,2,1)] = 2\n",
    "# Tot begins with a value of 0\n",
    "tot = 0\n",
    "# A for loop begins that loops through the values in each key-value pair of count\n",
    "for i in count:\n",
    "# And the value of each value in count is summed during each loop\n",
    "    tot=tot+count[i]\n",
    "# Finally, the sum of all values in count, which is equal to 13, is added to the number/length of key-value pairs, 3.\n",
    "print(len(count)+tot)"
   ]
  },
  {
   "cell_type": "markdown",
   "metadata": {},
   "source": [
    "1.7 (2 pts)\n",
    "Which of these about a dictionary is false?\n",
    "\n",
    "a) The values of a dictionary can be accessed using keys\n",
    "\n",
    "b) The keys of a dictionary can be accessed using values\n",
    "\n",
    "c) Dictionaries are ordered\n",
    "\n",
    "d) Dictionaries are mutable\n",
    "\n",
    "e) A dictionary can be inside a dictionary"
   ]
  },
  {
   "cell_type": "code",
   "execution_count": 22,
   "metadata": {},
   "outputs": [],
   "source": [
    "# b - a, c, d, and e are all properties of dictionaries whereas (b) is not."
   ]
  },
  {
   "cell_type": "markdown",
   "metadata": {},
   "source": [
    "1.8 (2pts)\n",
    "\n",
    "Which of the following is not a declaration of the dictionary and why?\n",
    "\n",
    "a) {1: ‘A’, 2: ‘B’}\n",
    "\n",
    "b) dict( [ [1,”A”], [2,”B”] ] )\n",
    "\n",
    "c) {1,”A”,2”B”}\n",
    "\n",
    "d) { }"
   ]
  },
  {
   "cell_type": "code",
   "execution_count": 23,
   "metadata": {},
   "outputs": [],
   "source": [
    "# b is not a declaration of the dictionary because it lacks curly brackets {} and because it lacks a colon between the keys and values\n",
    "\n",
    "#c is not a declaration of the dictionary because the key and values lack a colon between them\n"
   ]
  },
  {
   "cell_type": "markdown",
   "metadata": {},
   "source": [
    "1.9 Create a to-do list program using a dictionary of lists (20 points)\n",
    "\n",
    "Write code that stores a to-do list for each day of the week (Sunday through Saturday). Your program needs to have the following elements:\n",
    "\n",
    "-An empty dictionary to store information\n",
    "-A key in the dictionary for each day of the week\n",
    "\n",
    "-Each key has a value of a list that stores the to-do list items\n",
    "\n",
    "User can type \"add\" and the program will ask what day, then ask what item to add to that day. Ensure the user can add multiple items per day. (That is, ensure that this adds a new item, not replaces an existing item.)\n",
    "\n",
    "-User can type \"get\" and the program will ask for the day and print the values\n",
    "\n",
    "-The program will loop, using a while loop, until the user specifies \"quit\"\n",
    "\n",
    "Some user error checking is required, specifically: upper/lowercase for the days of the week, incorrect day of the week, or an incorrect command\n",
    "\n",
    "Hint: This task requires you to use tools you learned \"if\" and \"loops\" along with dictionaries and lists.\n",
    "\n",
    "Example:\n",
    "\n",
    "Prompt: What would you like to do?\n",
    "> add\n",
    "\n",
    "Prompt: What day?\n",
    "> Friday\n",
    "\n",
    "Prompt: What would you like to add to Friday's to-do list?\n",
    "> practice clarinet\n",
    "\n",
    "Prompt: What would you like to do?\n",
    "> get\n",
    "\n",
    "Prompt: What day?\n",
    "> funday\n",
    "Invalid entry - please enter a correct day of the week (like Monday or monday).\n",
    "\n",
    "Prompt: What day?\n",
    "> friday\n",
    "\n",
    "Response: You have to practice clarinet.\n",
    "\n",
    "Prompt: What would you like to do?\n",
    "> quit\n",
    "\n",
    "Response: Ending program. Thank you for using the to-do list!\n"
   ]
  },
  {
   "cell_type": "code",
   "execution_count": null,
   "metadata": {},
   "outputs": [
    {
     "name": "stdout",
     "output_type": "stream",
     "text": [
      "What would you like to do? ad\n",
      "Please enter add, get, or quit.\n",
      "What would you like to do? get\n",
      "What day?: monday\n",
      "[]\n",
      "What would you like to do? add\n",
      "What day?: monday\n",
      "What would you like to add to Monday's to-do list?: something\n",
      "{'Monday': ['something'], 'Tuesday': [], 'Wednesday': [], 'Thursday': [], 'Friday': [], 'Saturday': [], 'Sunday': []}\n",
      "What would you like to do? add\n",
      "What day?: tuesday\n",
      "What would you like to add to Tuesday's to-do list?: something else\n",
      "{'Monday': ['something'], 'Tuesday': ['something else'], 'Wednesday': [], 'Thursday': [], 'Friday': [], 'Saturday': [], 'Sunday': []}\n",
      "What would you like to do? get\n",
      "What day?: tuesday\n",
      "['something else']\n"
     ]
    }
   ],
   "source": [
    "dict1 = {\"Monday\":[] , \"Tuesday\":[] , \"Wednesday\":[] , \"Thursday\":[] , \"Friday\":[] , \"Saturday\": [], \"Sunday\": []}\n",
    "list1 = list(dict1)\n",
    "\n",
    "while True:\n",
    "    Prompt = input(\"What would you like to do? \")\n",
    "    if Prompt == \"quit\":\n",
    "        break             \n",
    "    elif Prompt == \"add\":\n",
    "        Prompt2 = input(\"What day?: \")\n",
    "        Prompt2a = Prompt2.capitalize()\n",
    "        if Prompt2a in list1:            \n",
    "            Prompt3 = input(\"What would you like to add to \" + Prompt2a + \"'s to-do list?: \")\n",
    "            dict1[Prompt2a].append(Prompt3)\n",
    "            print(dict1)\n",
    "        else: \n",
    "            print(Prompt2, \"invalid entry - please enter a correct day of the week like Monday or Tuesday\")\n",
    "    elif Prompt == \"get\":\n",
    "        Prompt4 = input(\"What day?: \")\n",
    "        Prompt4 = Prompt4.capitalize()\n",
    "        print(dict1[Prompt4])\n",
    "    else: \n",
    "        print(\"Please enter add, get, or quit.\")"
   ]
  },
  {
   "cell_type": "markdown",
   "metadata": {},
   "source": [
    "## 2.0 Functions"
   ]
  },
  {
   "cell_type": "markdown",
   "metadata": {},
   "source": [
    "2.1 (3pts) Write a Python function to sum all the numbers in a list."
   ]
  },
  {
   "cell_type": "code",
   "execution_count": null,
   "metadata": {},
   "outputs": [],
   "source": [
    "def add_up(y):\n",
    "    x = 0\n",
    "    for i in y:\n",
    "        x = x + i\n",
    "    return x \n",
    "\n",
    "sum_list = [1, 2, 3, 4, 5]\n",
    "add_up(sum_list)\n",
    "print(add_up(sum_list))\n",
    "z = add_up(sum_list)\n",
    "print(z)\n",
    "\n",
    "sum_list2 = [5, 6, 7]\n",
    "add_up(sum_list2)\n",
    "print(add_up(sum_list2))"
   ]
  },
  {
   "cell_type": "markdown",
   "metadata": {},
   "source": [
    "2.2 (3pts) Write a Python function to check if a rectangle is a square given width and height."
   ]
  },
  {
   "cell_type": "code",
   "execution_count": null,
   "metadata": {},
   "outputs": [],
   "source": [
    "def checksquare(width, height):\n",
    "    if width == height:\n",
    "        x = True \n",
    "    else:\n",
    "        x = False \n",
    "    print(x)\n",
    "\n",
    "width_1 = 5\n",
    "height_1 = 5\n",
    "\n",
    "checksquare(width_1, height_1)"
   ]
  },
  {
   "cell_type": "markdown",
   "metadata": {},
   "source": [
    "2.3 (10pts) Create a function that concatenates strings.\n"
   ]
  },
  {
   "cell_type": "code",
   "execution_count": 47,
   "metadata": {},
   "outputs": [
    {
     "name": "stdout",
     "output_type": "stream",
     "text": [
      "hello there\n"
     ]
    }
   ],
   "source": [
    "def concat(a, b):\n",
    "    z = a + \" \" + b\n",
    "    return z \n",
    "    \n",
    "x = \"hello\"\n",
    "y = \"there\"\n",
    "\n",
    "print(concat(x, y))"
   ]
  },
  {
   "cell_type": "code",
   "execution_count": 48,
   "metadata": {},
   "outputs": [
    {
     "name": "stdout",
     "output_type": "stream",
     "text": [
      " I go to school\n"
     ]
    }
   ],
   "source": [
    "#concatenating strings in a list into a single stream with a function \n",
    "\n",
    "def concat2(inlist):\n",
    "    sent = \"\"\n",
    "    for i in inlist: \n",
    "        sent = sent + \" \" + i \n",
    "    return sent\n",
    "    \n",
    "a = [\"I\", \"go\", \"to\", \"school\"]\n",
    "     \n",
    "print(concat2(a))\n"
   ]
  },
  {
   "cell_type": "code",
   "execution_count": null,
   "metadata": {},
   "outputs": [],
   "source": [
    "#concatenating multiple lists into a single list with a function \n",
    "\n",
    "def concat3(inlist1, inlist2):\n",
    "    c = inlist1 + inlist2 \n",
    "    return c\n",
    "\n",
    "a = [\"something\", \"anything\"]\n",
    "b = [\"here\", \"there\"]\n",
    "\n",
    "print(concat3(a, b))"
   ]
  },
  {
   "cell_type": "markdown",
   "metadata": {},
   "source": [
    "2.4 (20pts) As we approach the end of COVID-19, let's create functions to calculate trip costs:\n",
    "\n",
    "1. Define a function called \"hotel_cost\" with one argument nights as input. The hotel costs 140 dollars per night. So, the function \"hotel_cost\" should return 140 * nights.\n",
    "\n",
    "2. Define a function called \"plane_ride_cost\" that takes a string, city, as input. The function should return a different price depending on the location, similar to the code example above. Below are the valid destinations and their corresponding round-trip prices.\n",
    "\n",
    "\"Charlotte\": 183\n",
    "\"Tampa\": 220\n",
    "\"Pittsburgh\": 222\n",
    "\"Los Angeles\": 475\n",
    "\n",
    "3. Define a function called \"rental_car_cost\" with an argument called days. Calculate the cost of renting the car: Every day you rent the car costs 28 dollars. If you rent the car for 7 or more days, you get 75 dollars off your total. Alternatively, if you rent the car for 3 or more days, you get 20 dollars off your total. You cannot get both of the above discounts. Return that cost of renting a car for days specified by the argument. \n",
    "\n",
    "4. Define a function called \"trip_cost\" that takes two arguments, city and days. Using the functions above, have the trip_cost function return the sum of calling the rental_car_cost(days), hotel_cost(days), and plane_ride_cost(city) functions.\n",
    "\n",
    "5. Modify your \"trip_cost\" function definion, and add a third argument called spending_money. Add the variable spending_money to the sum of the cost returned by the trip_cost, so that you can have extra spending money planned for the trip."
   ]
  },
  {
   "cell_type": "code",
   "execution_count": null,
   "metadata": {},
   "outputs": [],
   "source": [
    "def hotel_cost(nights):\n",
    "    x = nights*140\n",
    "    return x\n",
    "\n",
    "def plane_cost(cityx):\n",
    "    cities = {\"Charlotte\": 183, \"Tampa\": 220, \"Pittsburgh\": 222, \"Los Angeles\": 475}\n",
    "    y = cities[cityx]\n",
    "    return y\n",
    "    \n",
    "def rental_car(cardays):\n",
    "    if cardays >= 7:\n",
    "        x = cardays * 28 - 75\n",
    "    elif cardays >= 3:\n",
    "        x = cardays * 28 - 20\n",
    "    else: \n",
    "        x = cardays * 28\n",
    "    return x\n",
    "\n",
    "def trip_cost(cityx, days, spendingmoney):\n",
    "    hotelcost = hotel_cost(days)\n",
    "    planecost = plane_cost(cityx)\n",
    "    rentalcar = rental_car(days)\n",
    "    tripcost = hotelcost + planecost + rentalcar + spendingmoney\n",
    "    return tripcost   \n",
    "    \n",
    "num_nights = int(input(\"Number of nights in hotel: \"))\n",
    "city = (input(\"City you traveled to: \"))\n",
    "spendingmoney = int(input(\"Spending money for trip: \"))\n",
    "\n",
    "totalcost = trip_cost(city, num_nights, spendingmoney)\n",
    "\n",
    "print(totalcost)\n"
   ]
  },
  {
   "cell_type": "markdown",
   "metadata": {},
   "source": [
    "#### 3. Make Tuples Not War"
   ]
  },
  {
   "cell_type": "markdown",
   "metadata": {},
   "source": [
    "3.1 (5pts) Write a script that takes in a list of numbers separated by commas (e.g. \"1,2,3,4,5\") and:\n",
    "* sorts the numbers\n",
    "* stores the numers in tuples of two in a list\n",
    "* prints each tuple\n",
    "    \n",
    "notes:\n",
    "If the user enters an odd-numbered list, add the last item to a tuple with the number 0. \n",
    "\n",
    "Example output:\n",
    "(1,2)\n",
    "(3,4)\n",
    "(5,0)"
   ]
  },
  {
   "cell_type": "code",
   "execution_count": null,
   "metadata": {},
   "outputs": [],
   "source": [
    "num_list1 = input(input(\"Enter a list of numbers: \"))\n",
    "num_list2 = []\n",
    "num_tup = ()\n",
    "\n",
    "for num in num_list1:\n",
    "    num_list1.split(\" \")\n",
    "    num_list2.append(num)\n",
    "\n",
    "print(num_list2)\n",
    "\n"
   ]
  },
  {
   "cell_type": "markdown",
   "metadata": {},
   "source": [
    "3.2 (2pts) Make a string from the following tuple: \n",
    "   tuple_1=(F','o','o','b','a','W','o','o','b','a','J','o','h','n')"
   ]
  },
  {
   "cell_type": "code",
   "execution_count": null,
   "metadata": {},
   "outputs": [],
   "source": [
    "tuple_1=('F','o','o','b','a','W','o','o','b','a','J','o','h','n')\n",
    "\n",
    "string_1 = ''.join(tuple_1)\n",
    "\n",
    "print(string_1)"
   ]
  },
  {
   "cell_type": "markdown",
   "metadata": {},
   "source": [
    "# 4. List Comprehension (for-loop one liners)"
   ]
  },
  {
   "cell_type": "markdown",
   "metadata": {},
   "source": [
    "\n",
    "Using only for loops, print the content of each tuple (list comprehension)."
   ]
  },
  {
   "cell_type": "code",
   "execution_count": 50,
   "metadata": {},
   "outputs": [],
   "source": [
    "treaties = [('Kyoto Protocol', 1997), ('Montreal Protocol', 1987), ('Basel Convention', 1992), ('Tokyo Convention', 1969)]            "
   ]
  },
  {
   "cell_type": "code",
   "execution_count": 51,
   "metadata": {},
   "outputs": [
    {
     "name": "stdout",
     "output_type": "stream",
     "text": [
      "Kyoto Protocol 1997\n",
      "Montreal Protocol 1987\n",
      "Basel Convention 1992\n",
      "Tokyo Convention 1969\n"
     ]
    }
   ],
   "source": [
    "printtreaty = [print(eachtreaty[0], eachtreaty[1]) for eachtreaty in treaties]"
   ]
  }
 ],
 "metadata": {
  "kernelspec": {
   "display_name": "Python 3",
   "language": "python",
   "name": "python3"
  },
  "language_info": {
   "codemirror_mode": {
    "name": "ipython",
    "version": 3
   },
   "file_extension": ".py",
   "mimetype": "text/x-python",
   "name": "python",
   "nbconvert_exporter": "python",
   "pygments_lexer": "ipython3",
   "version": "3.8.8"
  }
 },
 "nbformat": 4,
 "nbformat_minor": 2
}
