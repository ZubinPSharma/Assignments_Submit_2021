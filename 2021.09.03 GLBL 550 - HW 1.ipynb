{
 "cells": [
  {
   "cell_type": "code",
   "execution_count": 1,
   "id": "049ceb99",
   "metadata": {},
   "outputs": [
    {
     "name": "stdout",
     "output_type": "stream",
     "text": [
      "Jim, Casey, Marnix, Eric, JT\n"
     ]
    }
   ],
   "source": [
    "jackson_faculty=\"Jim, Casey, Marnix, Eric, JT\"\n",
    "print (jackson_faculty)"
   ]
  },
  {
   "cell_type": "code",
   "execution_count": 7,
   "id": "25f566a6",
   "metadata": {},
   "outputs": [
    {
     "name": "stdout",
     "output_type": "stream",
     "text": [
      "1000\n"
     ]
    }
   ],
   "source": [
    "value1=1000\n",
    "print (value1)"
   ]
  },
  {
   "cell_type": "code",
   "execution_count": 8,
   "id": "42157eda",
   "metadata": {},
   "outputs": [
    {
     "name": "stdout",
     "output_type": "stream",
     "text": [
      "3.14\n"
     ]
    }
   ],
   "source": [
    "value2=3.14\n",
    "print (value2)"
   ]
  },
  {
   "cell_type": "code",
   "execution_count": 9,
   "id": "a54f7b96",
   "metadata": {},
   "outputs": [
    {
     "name": "stdout",
     "output_type": "stream",
     "text": [
      "1003.14\n"
     ]
    }
   ],
   "source": [
    "value3=value1+value2\n",
    "print(value3)"
   ]
  },
  {
   "cell_type": "code",
   "execution_count": 10,
   "id": "29959b4a",
   "metadata": {},
   "outputs": [
    {
     "name": "stdout",
     "output_type": "stream",
     "text": [
      "1003.14\n"
     ]
    }
   ],
   "source": [
    "value3 = value1+value2\n",
    "print (value3)"
   ]
  },
  {
   "cell_type": "code",
   "execution_count": 11,
   "id": "a091dbeb",
   "metadata": {},
   "outputs": [
    {
     "name": "stdout",
     "output_type": "stream",
     "text": [
      "Zubin\n"
     ]
    }
   ],
   "source": [
    "first_name = \"Zubin\"\n",
    "print (first_name)"
   ]
  },
  {
   "cell_type": "code",
   "execution_count": 12,
   "id": "18fc15d7",
   "metadata": {},
   "outputs": [
    {
     "name": "stdout",
     "output_type": "stream",
     "text": [
      "Sharma\n"
     ]
    }
   ],
   "source": [
    "last_name = \"Sharma\"\n",
    "print (last_name)"
   ]
  },
  {
   "cell_type": "code",
   "execution_count": 18,
   "id": "52a221da",
   "metadata": {},
   "outputs": [
    {
     "name": "stdout",
     "output_type": "stream",
     "text": [
      "Zubin Sharma\n"
     ]
    }
   ],
   "source": [
    "my_name = (first_name + \" \" + last_name)\n",
    "print (my_name)"
   ]
  },
  {
   "cell_type": "code",
   "execution_count": 19,
   "id": "45933de2",
   "metadata": {},
   "outputs": [
    {
     "name": "stdout",
     "output_type": "stream",
     "text": [
      "5\n",
      "10\n"
     ]
    }
   ],
   "source": [
    "x, y = 5, 10 \n",
    "print(x)\n",
    "print(y)"
   ]
  }
 ],
 "metadata": {
  "kernelspec": {
   "display_name": "Python 3",
   "language": "python",
   "name": "python3"
  },
  "language_info": {
   "codemirror_mode": {
    "name": "ipython",
    "version": 3
   },
   "file_extension": ".py",
   "mimetype": "text/x-python",
   "name": "python",
   "nbconvert_exporter": "python",
   "pygments_lexer": "ipython3",
   "version": "3.8.8"
  }
 },
 "nbformat": 4,
 "nbformat_minor": 5
}
