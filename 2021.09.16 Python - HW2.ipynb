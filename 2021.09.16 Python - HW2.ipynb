{
 "cells": [
  {
   "cell_type": "markdown",
   "id": "2489d19a",
   "metadata": {},
   "source": [
    "## Bill Gates"
   ]
  },
  {
   "cell_type": "markdown",
   "id": "16564d7b",
   "metadata": {},
   "source": [
    "## Thomas Edison"
   ]
  },
  {
   "cell_type": "markdown",
   "id": "3a2f16b5",
   "metadata": {},
   "source": [
    "## Rosalind Franklin "
   ]
  },
  {
   "cell_type": "markdown",
   "id": "c0716947",
   "metadata": {},
   "source": [
    "### Steve Jobs"
   ]
  },
  {
   "cell_type": "markdown",
   "id": "6bb67545",
   "metadata": {},
   "source": [
    "#### Chandra "
   ]
  },
  {
   "cell_type": "markdown",
   "id": "40042176",
   "metadata": {},
   "source": [
    "* Zubin "
   ]
  },
  {
   "cell_type": "markdown",
   "id": "3ed8d6f7",
   "metadata": {},
   "source": [
    "**Jackson**"
   ]
  },
  {
   "cell_type": "markdown",
   "id": "bdc3a9aa",
   "metadata": {},
   "source": [
    "**Jackson** is a good school"
   ]
  },
  {
   "cell_type": "markdown",
   "id": "87cae834",
   "metadata": {},
   "source": [
    "*New Haven*"
   ]
  },
  {
   "cell_type": "markdown",
   "id": "8efbe7b2",
   "metadata": {},
   "source": []
  }
 ],
 "metadata": {
  "kernelspec": {
   "display_name": "Python 3",
   "language": "python",
   "name": "python3"
  },
  "language_info": {
   "codemirror_mode": {
    "name": "ipython",
    "version": 3
   },
   "file_extension": ".py",
   "mimetype": "text/x-python",
   "name": "python",
   "nbconvert_exporter": "python",
   "pygments_lexer": "ipython3",
   "version": "3.8.8"
  }
 },
 "nbformat": 4,
 "nbformat_minor": 5
}
