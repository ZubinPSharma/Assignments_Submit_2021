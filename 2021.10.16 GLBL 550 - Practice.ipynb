{
 "cells": [
  {
   "cell_type": "code",
   "execution_count": 9,
   "id": "28a13241",
   "metadata": {},
   "outputs": [
    {
     "name": "stdout",
     "output_type": "stream",
     "text": [
      "Tj\n",
      "Hayoung\n",
      "Sylvie\n",
      "Doug\n",
      "Aishwarya\n",
      "Zubin\n"
     ]
    }
   ],
   "source": [
    "students = \"tj\", \"hayoung\", \"sylvie\", \"doug\", \"aishwarya\", \"zubin\"\n",
    "\n",
    "for student in students: \n",
    "    print(student.capitalize())\n",
    "\n",
    "\n"
   ]
  },
  {
   "cell_type": "code",
   "execution_count": 15,
   "id": "4a0abebd",
   "metadata": {},
   "outputs": [
    {
     "name": "stdout",
     "output_type": "stream",
     "text": [
      "['Tj', 'Hayoung', 'Sylvie', 'Doug', 'Aishwarya', 'Zubin']\n"
     ]
    }
   ],
   "source": [
    "#Basic syntax of list comprehension \n",
    "#square brackets\n",
    "#like an inverted for loop \n",
    "\n",
    "students = \"tj\", \"hayoung\", \"sylvie\", \"doug\", \"aishwarya\", \"zubin\"\n",
    "\n",
    "student_caps = [student.capitalize() for student in students]\n",
    "\n",
    "print(student_caps)\n"
   ]
  },
  {
   "cell_type": "code",
   "execution_count": 16,
   "id": "f638f272",
   "metadata": {},
   "outputs": [
    {
     "name": "stdout",
     "output_type": "stream",
     "text": [
      "-4\n",
      "-2\n",
      "0\n",
      "2\n",
      "4\n",
      "6\n"
     ]
    }
   ],
   "source": [
    "nums = [-9, -7, -4, -2, 0, 2, 3, 4, 5, 6]\n",
    "\n",
    "for i in nums:\n",
    "    if i % 2 == 0:\n",
    "        print(i)"
   ]
  },
  {
   "cell_type": "code",
   "execution_count": 17,
   "id": "c9771a28",
   "metadata": {},
   "outputs": [
    {
     "name": "stdout",
     "output_type": "stream",
     "text": [
      "[-4, -2, 0, 2, 4, 6]\n"
     ]
    }
   ],
   "source": [
    "nums = [-9, -7, -4, -2, 0, 2, 3, 4, 5, 6]\n",
    "\n",
    "evens = [x for x in nums if x % 2 ==0] #conditional statements after \n",
    "\n",
    "print(evens)"
   ]
  },
  {
   "cell_type": "code",
   "execution_count": 20,
   "id": "f82277d9",
   "metadata": {},
   "outputs": [
    {
     "name": "stdout",
     "output_type": "stream",
     "text": [
      "['TJ', 'Tom']\n"
     ]
    }
   ],
   "source": [
    "students2 = [\"Doug\", \"Darren\", \"TJ\", \"Tom\", \"Hayoung\", \"Harry\", \"Casey\", \"Carl\"]\n",
    "\n",
    "students_t = [x for x in students2 if x.startswith(\"T\")]\n",
    "\n",
    "print(students_t)\n"
   ]
  },
  {
   "cell_type": "code",
   "execution_count": 22,
   "id": "4fdad23c",
   "metadata": {},
   "outputs": [
    {
     "name": "stdout",
     "output_type": "stream",
     "text": [
      "[1, 49, 13, 11, 23, 4, 17, 42, 64, 25]\n"
     ]
    }
   ],
   "source": [
    "#list comprehensions with else / elif \n",
    "# your_list = [f(x) if condition elif condition_2 g(x) else h(x) for x in iterable_object]\n",
    "#square of elements if elements less than 10; otherwise, return numbers themselves\n",
    "\n",
    "nums2 = [1, 7, 13, 11, 23, 2, 17, 42, 8, 5]\n",
    "\n",
    "new_list = [x**2 if x < 10 else x for x in nums2]\n",
    "\n",
    "print(new_list)\n",
    "        \n",
    "\n"
   ]
  },
  {
   "cell_type": "code",
   "execution_count": 26,
   "id": "b134c338",
   "metadata": {},
   "outputs": [
    {
     "name": "stdout",
     "output_type": "stream",
     "text": [
      "[1, 49, 13, 11, 23, 4, 17, 42, 64, 25]\n"
     ]
    }
   ],
   "source": [
    "nums2 = [1, 7, 13, 11, 23, 2, 17, 42, 8, 5]\n",
    "new = []\n",
    "\n",
    "for i in nums2:\n",
    "    if i < 10:\n",
    "        new.append(i**2)\n",
    "    else: \n",
    "        new.append(i)\n",
    "\n",
    "print(new)\n"
   ]
  },
  {
   "cell_type": "code",
   "execution_count": 30,
   "id": "cb48125a",
   "metadata": {},
   "outputs": [
    {
     "name": "stdout",
     "output_type": "stream",
     "text": [
      "{'A': 'Alpha', 'B': 'Bravo', 'C': 'Charlie', 'D': 'Delta'}\n"
     ]
    }
   ],
   "source": [
    "#dictionary comprehensions \n",
    "#syntax {key: value for (key, value in iterable}\n",
    "#squiggly braces for dictionary list comprehension\n",
    "\n",
    "keys = [\"A\", \"B\", \"C\", \"D\"]\n",
    "values = [\"Alpha\", \"Bravo\", \"Charlie\", \"Delta\"]\n",
    "\n",
    "dictcomp_1 = {key: value for (key, value) in zip(keys, values)}\n",
    "print(dictcomp_1)"
   ]
  },
  {
   "cell_type": "code",
   "execution_count": 34,
   "id": "d0689fe3",
   "metadata": {},
   "outputs": [
    {
     "name": "stdout",
     "output_type": "stream",
     "text": [
      "Greetings Yale Grad students\n",
      "Welcome to the Jackson Institute\n"
     ]
    }
   ],
   "source": [
    "#functions allow us to tackle more complicated algorithms and scripts \n",
    "#allows us to break code into more manageable pieces where each piece has specific functionality\n",
    "#also known as modularity \n",
    "#just a piece of code we can use in different parts of our program\n",
    "#two parts: defining and hten calling it\n",
    "#function takes argument \n",
    "#three single quotations (doc string) - you can say what function will do - another way to comment out code\n",
    "#but this line of words will be saved in function so if you ever want to find out what welcome does, it will tell you what the function's purpose is\n",
    "#a note which you write to explain purpose of function\n",
    "#you can type ? and then function name to find out the purpose\n",
    "\n",
    "def welcome():\n",
    "    '''a function to welcome students''' \n",
    "    print(\"Greetings Yale Grad students\")\n",
    "    print(\"Welcome to the Jackson Institute\")\n",
    "    \n",
    "welcome()\n",
    "    \n",
    "\n",
    "\n"
   ]
  },
  {
   "cell_type": "code",
   "execution_count": 37,
   "id": "03887917",
   "metadata": {},
   "outputs": [],
   "source": [
    "?welcome"
   ]
  },
  {
   "cell_type": "code",
   "execution_count": 40,
   "id": "038fd26c",
   "metadata": {},
   "outputs": [],
   "source": [
    "?print"
   ]
  },
  {
   "cell_type": "code",
   "execution_count": 49,
   "id": "2558cbd1",
   "metadata": {},
   "outputs": [
    {
     "name": "stdout",
     "output_type": "stream",
     "text": [
      " Welcome Casey King to the Jackson Institute!\n",
      " Welcome Sylvie Zhong to the Jackson Institute!\n",
      " Welcome Hayoung Choi to the Jackson Institute!\n",
      " Welcome TJ  to the Jackson Institute!\n"
     ]
    }
   ],
   "source": [
    "#functions can take arguments\n",
    "#in welcome, haven't put any arguments but we can \n",
    "#a parameter used to define a fuction\n",
    "#define with parameters and then pass on arguments\n",
    "#argument specific parameter we pass to function\n",
    "\n",
    "def welcome2(first, last = \"\"):\n",
    "    '''A function to greet peopel by first and last names'''\n",
    "    print(f' Welcome {first} {last} to the Jackson Institute!')\n",
    "    \n",
    "welcome2(\"Casey\", \"King\")\n",
    "welcome2(\"Sylvie\", \"Zhong\")\n",
    "welcome2(\"Hayoung\", \"Choi\")\n",
    "welcome2(\"TJ\")\n",
    "    "
   ]
  },
  {
   "cell_type": "code",
   "execution_count": 51,
   "id": "fa78be1c",
   "metadata": {},
   "outputs": [
    {
     "name": "stdout",
     "output_type": "stream",
     "text": [
      " Welcome Casey King to the Jackson Institute!\n",
      " Welcome Sylvie Zhong to the Jackson Institute!\n",
      " Welcome Hayoung Choi to the Jackson Institute!\n",
      " Welcome TJ  to the Jackson Institute!\n"
     ]
    }
   ],
   "source": [
    "def welcome2(first, last = \"\"):\n",
    "    '''A function to greet peopel by first and last names'''\n",
    "    print(f' Welcome {first} {last} to the Jackson Institute!')\n",
    "    \n",
    "welcome2(\"Casey\", \"King\")\n",
    "welcome2(\"Sylvie\", \"Zhong\")\n",
    "welcome2(\"Hayoung\", \"Choi\")\n",
    "welcome2(\"TJ\")\n"
   ]
  },
  {
   "cell_type": "code",
   "execution_count": 58,
   "id": "ce33ca3d",
   "metadata": {},
   "outputs": [],
   "source": [
    "#save code for later - that's when we use the return value\n",
    "\n",
    "def welcome4(name): #name is the parameter\n",
    "    '''simple function to welcome people to Jackson by first name'''\n",
    "    return f'Welcome {name} to the Jackson Institute!'\n",
    "    \n",
    "    \n"
   ]
  },
  {
   "cell_type": "code",
   "execution_count": 59,
   "id": "4ab5bd88",
   "metadata": {},
   "outputs": [
    {
     "name": "stdout",
     "output_type": "stream",
     "text": [
      "Welcome TJ to the Jackson Institute!\n"
     ]
    }
   ],
   "source": [
    "#reusable code\n",
    "#when you return something it stores something for you\n",
    "#can concatenate \n",
    "\n",
    "welcome = welcome4(\"TJ\") #TJ is the argument\n",
    "print(welcome)"
   ]
  },
  {
   "cell_type": "code",
   "execution_count": 60,
   "id": "ec6e7d72",
   "metadata": {},
   "outputs": [],
   "source": [
    "#difference between a parameter and an argument\n",
    "#define with parameter\n",
    "#but when you call a function, you use an argument\n",
    "#argument is a specific, individual example of that parameter"
   ]
  },
  {
   "cell_type": "code",
   "execution_count": 61,
   "id": "dd89cfa9",
   "metadata": {},
   "outputs": [],
   "source": [
    "def welcome5(first, last, year=2023):\n",
    "    return f'Welcome {first} {last} to the Jackson Institute class of {year}!'\n",
    "\n"
   ]
  },
  {
   "cell_type": "code",
   "execution_count": 62,
   "id": "47278bf4",
   "metadata": {},
   "outputs": [
    {
     "data": {
      "text/plain": [
       "'Welcome Sylvie Zhong to the Jackson Institute class of 2023!'"
      ]
     },
     "execution_count": 62,
     "metadata": {},
     "output_type": "execute_result"
    }
   ],
   "source": [
    "welcome5(\"Sylvie\", \"Zhong\")"
   ]
  },
  {
   "cell_type": "code",
   "execution_count": 63,
   "id": "0909b60c",
   "metadata": {},
   "outputs": [
    {
     "data": {
      "text/plain": [
       "'Welcome Sylvie Zhong to the Jackson Institute class of 2024!'"
      ]
     },
     "execution_count": 63,
     "metadata": {},
     "output_type": "execute_result"
    }
   ],
   "source": [
    "welcome5(\"Sylvie\", \"Zhong\", 2024)"
   ]
  },
  {
   "cell_type": "code",
   "execution_count": 65,
   "id": "ed041dbc",
   "metadata": {},
   "outputs": [
    {
     "data": {
      "text/plain": [
       "12"
      ]
     },
     "execution_count": 65,
     "metadata": {},
     "output_type": "execute_result"
    }
   ],
   "source": [
    "def increment(num, by):\n",
    "    '''increment a number by another'''\n",
    "    return num + by\n",
    "\n",
    "increment(5, 7)\n"
   ]
  },
  {
   "cell_type": "code",
   "execution_count": 69,
   "id": "18130dc5",
   "metadata": {},
   "outputs": [
    {
     "data": {
      "text/plain": [
       "21"
      ]
     },
     "execution_count": 69,
     "metadata": {},
     "output_type": "execute_result"
    }
   ],
   "source": [
    "def multiply(num, by = 6):\n",
    "    '''multiple two numbers together'''\n",
    "    return num * by\n",
    "\n",
    "multiply(3, 7)\n"
   ]
  },
  {
   "cell_type": "code",
   "execution_count": 71,
   "id": "9df6fa02",
   "metadata": {},
   "outputs": [
    {
     "data": {
      "text/plain": [
       "18"
      ]
     },
     "execution_count": 71,
     "metadata": {},
     "output_type": "execute_result"
    }
   ],
   "source": [
    "multiply(3)"
   ]
  },
  {
   "cell_type": "code",
   "execution_count": null,
   "id": "759154f0",
   "metadata": {},
   "outputs": [],
   "source": []
  }
 ],
 "metadata": {
  "kernelspec": {
   "display_name": "Python 3",
   "language": "python",
   "name": "python3"
  },
  "language_info": {
   "codemirror_mode": {
    "name": "ipython",
    "version": 3
   },
   "file_extension": ".py",
   "mimetype": "text/x-python",
   "name": "python",
   "nbconvert_exporter": "python",
   "pygments_lexer": "ipython3",
   "version": "3.8.8"
  }
 },
 "nbformat": 4,
 "nbformat_minor": 5
}
