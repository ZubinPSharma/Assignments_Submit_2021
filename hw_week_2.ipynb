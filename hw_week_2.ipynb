{
 "cells": [
  {
   "cell_type": "markdown",
   "metadata": {},
   "source": [
    "# Homework 2:\n",
    "\n",
    "## 1.1 GitHub Exercise\n",
    "\n",
    "This is a simple exercise designed to give you practice using GitHub. Additionally the following questions are meant to stimulate you to think about how innovation arises and propagates. Please choose one person (out of the two) that you think made a larger difference in technology and state your reasons why. Type your answers in \"markdown\" (cell type from menu above) **Cell -> Cell Type -> Markdown**\n",
    "\n",
    "Bill Gates or Gary Kidall? "
   ]
  },
  {
   "cell_type": "markdown",
   "metadata": {},
   "source": [
    "## Bill Gates"
   ]
  },
  {
   "cell_type": "markdown",
   "metadata": {},
   "source": [
    "Thomas Edison or Nicola Tesla?"
   ]
  },
  {
   "cell_type": "markdown",
   "metadata": {},
   "source": [
    "## Nicola Tesla"
   ]
  },
  {
   "cell_type": "markdown",
   "metadata": {},
   "source": [
    "Rosalind Franklin or Watson and Crick?"
   ]
  },
  {
   "cell_type": "markdown",
   "metadata": {},
   "source": [
    "## Rosalind Franklin"
   ]
  },
  {
   "cell_type": "markdown",
   "metadata": {},
   "source": [
    "Steve(Jobs or Wozniak)?"
   ]
  },
  {
   "cell_type": "markdown",
   "metadata": {},
   "source": [
    "## Steve Jobs"
   ]
  },
  {
   "cell_type": "markdown",
   "metadata": {},
   "source": [
    "How might modern data science be disruptive to Global Affairs? \n",
    "\n",
    "## I will let you know once I finish the class"
   ]
  },
  {
   "cell_type": "markdown",
   "metadata": {},
   "source": [
    "##  1.2 Use the Command Line to Build a Folder and File Tree\n",
    "\n",
    "In your main classroom Github repository on your local computer make a folder called SUBMISSIONS. Under this folder make a folder named week_01. This week_01 folder is where all of the submissions for this week will go.\n",
    "\n",
    "Please use the command line to build a folder tree with the below files within your week_01 folder as shown below.\n",
    "\n",
    "\n",
    "```python\n",
    "week_01\n",
    "|--answers.txt\n",
    "|--s1\n",
    "   |---s3\n",
    "   |   |---conf.txt\n",
    "   |---s2\n",
    "       |---text_chunk1.txt\n",
    "       |---Advanced\n",
    "           |---text_chunk2.txt\n",
    "```\n",
    "\n",
    "Record your commands in a text file named answers.txt and put this file in your week_01 folder\n",
    "\n",
    "s1, s2, s3, Advanced are folder (or directory) names (for example: under the week_01 folder will be the s1 folder and then the rest of the folder & file structure as shown above)\n",
    "\n",
    "Make a file named conf.txt that contains the sentence (without the quotes):\n",
    "\n",
    "\"I love bash scripting.\" \n",
    "\n",
    "Make a file named text_chunk1.txt have the following two lines (without the quotes):\n",
    "\n",
    "\"A whole new world\"\n",
    "\n",
    "\"A new fantastic point of view\"\n",
    "\n",
    "text_chunk2.txt is a copy of text_chunk1.txt with one extra text line appended (without the quotes)\n",
    "\n",
    "\"A whole new world\"\n",
    "\n",
    "\"A new fantastic point of view\"\n",
    "\n",
    "\"Do you want to build a snowman?\"\n",
    "\n",
    "Commit your answers to your repository."
   ]
  },
  {
   "cell_type": "code",
   "execution_count": null,
   "metadata": {},
   "outputs": [],
   "source": []
  }
 ],
 "metadata": {
  "kernelspec": {
   "display_name": "Python 3",
   "language": "python",
   "name": "python3"
  },
  "language_info": {
   "codemirror_mode": {
    "name": "ipython",
    "version": 3
   },
   "file_extension": ".py",
   "mimetype": "text/x-python",
   "name": "python",
   "nbconvert_exporter": "python",
   "pygments_lexer": "ipython3",
   "version": "3.8.8"
  }
 },
 "nbformat": 4,
 "nbformat_minor": 4
}
