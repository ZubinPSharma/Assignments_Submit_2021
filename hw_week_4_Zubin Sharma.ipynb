{
 "cells": [
  {
   "cell_type": "markdown",
   "metadata": {},
   "source": [
    " # Homework Week 4"
   ]
  },
  {
   "cell_type": "markdown",
   "metadata": {},
   "source": [
    "## Cybersecurity: Problem 1 (20pts)\n",
    "\n",
    "The technique of trying every possible password to gain access to a password restricted website is called a brute-force attack. Loops, both for and while, make this very easy. This is part of the reason why a fairly unsophisticated hacker can still be successful. \n",
    "\n",
    "Naughty people buy lists of passwords on the dark web and then use brute-force attacks to try to gain access to places they shouldn't be wandering. They often pay for their illicit purchases in bitcoin.\n",
    "\n",
    "In order to fight wrongdoing, we must imagine the world from their perspective. Some never come back. Others are guided by strong core principles and understand right and wrong.\n",
    "\n",
    "\n",
    "\n",
    " \n"
   ]
  },
  {
   "cell_type": "markdown",
   "metadata": {},
   "source": [
    "You are a hacker and have a budget of 3,200 Cape Verde Escudo to buy user passwords. On the AlphaBay Market on the dark web each password sells for .0008 BTC . Write a script that converts Escudo (based on current exchange rate) to dollars, and then dollars to bitcoin. Then output the number of passwords that you are able to buy.  "
   ]
  },
  {
   "cell_type": "code",
   "execution_count": 1,
   "metadata": {},
   "outputs": [
    {
     "name": "stdout",
     "output_type": "stream",
     "text": [
      "Number of Passwords Purchased =  1\n"
     ]
    }
   ],
   "source": [
    "Escudo = 3200\n",
    "\n",
    "Dollars = Escudo * .011\n",
    "\n",
    "BTC = Dollars * 0.000024\n",
    "\n",
    "Num_PWs = BTC / .0008\n",
    "\n",
    "print('Number of Passwords Purchased = % .0f' %Num_PWs) # Rounded down because you can't have 1.06 PWs.  "
   ]
  },
  {
   "cell_type": "markdown",
   "metadata": {},
   "source": [
    "Okay, you are off to a very naughty start.\n",
    "\n",
    "The vendor was generous and gave you more passwords than you could afford. Write a script that calculates how many passwords you got for free in Cape Verde Escudo.\n",
    "\n",
    "Passwords received:\n",
    "(please ignore italics as markdown interprets characters as commands. double click on markdown cell to access unaltered passwords)\n",
    "\n",
    "3asdad, letmein@!, qwerty, abc123, trustno1, Ilovesandy, !!@@###123, pl,mjytce!,\n",
    "p@s$word,\n",
    "joker@1!, \n",
    "gofkur$lf, \n",
    "1q2w3e4r,\n",
    "letmein, \n",
    "iloveyou,\n",
    "password1,\n",
    "1qaz2wsx, \n",
    "qazwsx, \n",
    "12345, \n",
    "johnsp@ssw0rd, \n",
    "meandmymonkey, \n",
    "xboksrools, \n",
    "qwertyuiop, \n",
    "77777, \n",
    "888888, \n",
    "zaq1zaq1,\n",
    "123qwe, excaliburr!,  girlsrule!, @cce$$granted, iRulE!, pewdepieftw1, wtFstfUP, admin, master, sunshinesuzy, bobbyluvsdaBears!,qwertyuiop, w_uts_up, n0$hit!, 00000, loveme, 1qaz2wsx3ed,\n",
    "plm0okn,\n",
    "logmein, \n",
    "iloveyou,\n",
    "football,\n",
    "giMMe$uger,\n",
    "aiden123,\n",
    "william123,\n",
    "sally123,\n",
    "pirsquareD, \n",
    "d0nutTreadonme, \n",
    "weedmn, \n",
    "MakeUSgr8,\n",
    "USA#1,\n",
    "FokiSiS, \n",
    "Footbahl, \n",
    "2#22#1985, \n",
    "11111,\n",
    "Dodgethis   \n",
    "\n"
   ]
  },
  {
   "cell_type": "code",
   "execution_count": null,
   "metadata": {},
   "outputs": [],
   "source": [
    "PW_Received = ['3asdad', 'letmein@!' , 'qwerty' , 'abc123' , 'trustno1' , 'Ilovesandy' , '!!@@###123' , 'pl,mjytce!' , 'p@s$word' ,\n",
    "'joker@1!' , 'gofkur$lf' , '1q2w3e4r' , 'letmein' , 'iloveyou' , 'password1' , '1qaz2wsx' , 'qazwsx' , '12345' , 'johnsp@ssw0rd' , 'meandmymonkey' , 'xboksrools' , \n",
    "'qwertyuiop' , '77777' , '888888' , 'zaq1zaq1' ,'123qwe' , 'excaliburr!' , 'girlsrule!' , '@cce$$granted' , 'iRulE!' , 'pewdepieftw1' , 'wtFstfUP' , 'admin' , 'master' , 'sunshinesuzy' , 'bobbyluvsdaBears!' , 'qwertyuiop' , 'w_uts_up' , 'n0$hit!' , '00000' , 'loveme' , '1qaz2wsx3ed' ,\n",
    "'plm0okn', 'logmein', 'iloveyou' , 'football' , 'giMMe$uger' , 'aiden123' , 'william123' , 'sally123' , 'pirsquareD' , 'd0nutTreadonme' , \n",
    "'weedmn', 'MakeUSgr8' , 'USA#1' , 'FokiSiS' , 'Footbahl' , '2#22#1985' , '11111' , 'Dodgethis']\n",
    "\n",
    "Num_PWS_Received = len(PW_Received)\n",
    "\n",
    "print(Num_PWS_Received)"
   ]
  },
  {
   "cell_type": "code",
   "execution_count": null,
   "metadata": {},
   "outputs": [],
   "source": [
    "New_String = \"3asdad, letmein@!, qwerty, abc123, trustno1, Ilovesandy, !!@@###123, pl,mjytce!, p@s$word, joker@1!, gofkur$lf, 1q2w3e4r, letmein, iloveyou, password1, 1qaz2wsx, qazwsx, 12345, johnsp@ssw0rd, meandmymonkey, xboksrools, qwertyuiop, 77777, 888888, zaq1zaq1, 123qwe, excaliburr!,  girlsrule!, @cce$$granted, iRulE!, pewdepieftw1, wtFstfUP, admin, master, sunshinesuzy, bobbyluvsdaBears!, qwertyuiop, w_uts_up, n0$hit!, 00000, loveme, 1qaz2wsx3ed, plm0okn, logmein, iloveyou, football, giMMe$uger, aiden123, william123, sally123, pirsquareD, d0nutTreadonme, weedmn, MakeUSgr8, USA#1, FokiSiS, Footbahl, 2#22#1985, 11111, Dodgethis\"\n",
    "\n",
    "New_list = New_String.split(\", \")\n",
    "\n",
    "print(New_list)\n",
    "\n",
    "print(\"Items in the list = \", len(New_list))\n",
    "\n",
    "#Practicing with split function \n"
   ]
  },
  {
   "cell_type": "markdown",
   "metadata": {},
   "source": [
    "Now you have some passwords that you can use to attempt a brute-force attack on a password protected account. Write a script that demonstrates how a brute force attack might work. \n"
   ]
  },
  {
   "cell_type": "markdown",
   "metadata": {},
   "source": [
    "For the sake of this exercise, assume the user's password is: 1qaz2wsx"
   ]
  },
  {
   "cell_type": "markdown",
   "metadata": {},
   "source": [
    "Your script should evaluate each one of the possible passwords. Output- \"No, try again\" when you hit a wrong password, and \"You're in!\" when you get it right. When you get it right, the script should stop running. This script should be automated so that it tries each password without you needing to enter it manually."
   ]
  },
  {
   "cell_type": "code",
   "execution_count": null,
   "metadata": {},
   "outputs": [],
   "source": [
    "for password in PW_Received: \n",
    "    if password == '1qaz2wsx': \n",
    "        print('Password found.  You are in!')\n",
    "        break\n",
    "    else: \n",
    "        print('No, try again')"
   ]
  },
  {
   "cell_type": "markdown",
   "metadata": {},
   "source": [
    "## Problem 2: (10pts)\n",
    "A distributed denial-of-service (DDoS) attack is a malicious attempt to disrupt normal traffic of a targeted server, service or network by overwhelming the target or its surrounding infrastructure with a flood of data or inputs."
   ]
  },
  {
   "cell_type": "markdown",
   "metadata": {},
   "source": [
    "Write a simple example of a DoS attack on a user input statement using a for loop that executes for 100 iterations.\n"
   ]
  },
  {
   "cell_type": "code",
   "execution_count": null,
   "metadata": {},
   "outputs": [],
   "source": [
    "Age = int(input(\"Enter your age: \"))\n",
    "i = 1\n",
    "\n",
    "while i < 101:\n",
    "    print(f'you are being attacked', i)\n",
    "    i +=1 \n",
    "\n",
    "        "
   ]
  },
  {
   "cell_type": "markdown",
   "metadata": {},
   "source": [
    "## Problem 3: (20pts): "
   ]
  },
  {
   "cell_type": "markdown",
   "metadata": {},
   "source": [
    "You can instantiate multiple processes on your computer to perform many tasks simultaneously in parallel (for example, if you have a quad-core CPU, then there could be at most 4 processes running simultanouesly). In python, it is as simple as using the multiprocessing package: https://zetcode.com/python/multiprocessing/. Use this package (you can directly use the code for multiprocessing online) to perform a real DDoS attack by instantiating at least 4 processes (bots), each executing a for loop for 100 iterations (a total of 400 iterations) to overwhelm the target. \n"
   ]
  },
  {
   "cell_type": "code",
   "execution_count": 6,
   "metadata": {},
   "outputs": [
    {
     "name": "stdout",
     "output_type": "stream",
     "text": [
      "hello\n",
      "hello\n",
      "hello\n",
      "hello\n",
      "hello\n",
      "hello\n",
      "hello\n",
      "hello\n",
      "hello\n",
      "hello\n",
      "hello\n",
      "hello\n",
      "hello\n",
      "hello\n",
      "hello\n",
      "hello\n",
      "hello\n",
      "hello\n",
      "hello\n",
      "hello\n",
      "hello\n",
      "hello\n",
      "hello\n",
      "hello\n",
      "hello\n",
      "hello\n",
      "hello\n",
      "hello\n",
      "hello\n",
      "hello\n",
      "hello\n",
      "hello\n",
      "hello\n",
      "hello\n",
      "hello\n",
      "hello\n",
      "hello\n",
      "hello\n",
      "hello\n",
      "hello\n",
      "hello\n",
      "hello\n",
      "hello\n",
      "hello\n",
      "hello\n",
      "hello\n",
      "hello\n",
      "hello\n",
      "hello\n",
      "hello\n",
      "hello\n",
      "hello\n",
      "hello\n",
      "hello\n",
      "hello\n",
      "hello\n",
      "hello\n",
      "hello\n",
      "hello\n",
      "hello\n",
      "hello\n",
      "hello\n",
      "hello\n",
      "hello\n",
      "hello\n",
      "hello\n",
      "hello\n",
      "hello\n",
      "hello\n",
      "hello\n",
      "hello\n",
      "hello\n",
      "hello\n",
      "hello\n",
      "hello\n",
      "hello\n",
      "hello\n",
      "hello\n",
      "hello\n",
      "hello\n",
      "hello\n",
      "hello\n",
      "hello\n",
      "hello\n",
      "hello\n",
      "hello\n",
      "hello\n",
      "hello\n",
      "hello\n",
      "hello\n",
      "hello\n",
      "hello\n",
      "hello\n",
      "hello\n",
      "hello\n",
      "hello\n",
      "hello\n",
      "hello\n",
      "hello\n",
      "hello\n"
     ]
    }
   ],
   "source": [
    "from multiprocess import Process\n",
    "\n",
    "def fun():\n",
    "    for i in range(100):\n",
    "        print('hello')\n",
    "        \n",
    "def main():\n",
    "\n",
    "    p = Process(target=fun()) #can put with open and closed parentheses after fun\n",
    "    p.start()\n",
    "\n",
    "main()"
   ]
  },
  {
   "cell_type": "markdown",
   "metadata": {},
   "source": [
    "# Output for the above\n",
    "\n",
    "hello\n",
    "hello\n",
    "hello\n",
    "hello\n",
    "hello\n",
    "hello\n",
    "hello\n",
    "hello\n",
    "hello\n",
    "hello\n",
    "hello\n",
    "hello\n",
    "hello\n",
    "hello\n",
    "hello\n",
    "hello\n",
    "hello\n",
    "hello\n",
    "hello\n",
    "hello\n",
    "hello\n",
    "hello\n",
    "hello\n",
    "hello\n",
    "hello\n",
    "hello\n",
    "hello\n",
    "hello\n",
    "hello\n",
    "hello\n",
    "hello\n",
    "hello\n",
    "hello\n",
    "hello\n",
    "hello\n",
    "hello\n",
    "hello\n",
    "hello\n",
    "hello\n",
    "hello\n",
    "hello\n",
    "hello\n",
    "hello\n",
    "hello\n",
    "hello\n",
    "hello\n",
    "hello\n",
    "hello\n",
    "hello\n",
    "hello\n",
    "hello\n",
    "hello\n",
    "hello\n",
    "hello\n",
    "hello\n",
    "hello\n",
    "hello\n",
    "hello\n",
    "hello\n",
    "hello\n",
    "hello\n",
    "hello\n",
    "hello\n",
    "hello\n",
    "hello\n",
    "hello\n",
    "hello\n",
    "hello\n",
    "hello\n",
    "hello\n",
    "hello\n",
    "hello\n",
    "hello\n",
    "hello\n",
    "hello\n",
    "hello\n",
    "hello\n",
    "hello\n",
    "hello\n",
    "hello\n",
    "hello\n",
    "hello\n",
    "hello\n",
    "hello\n",
    "hello\n",
    "hello\n",
    "hello\n",
    "hello\n",
    "hello\n",
    "hello\n",
    "hello\n",
    "hello\n",
    "hello\n",
    "hello\n",
    "hello\n",
    "hello\n",
    "hello\n",
    "hello\n",
    "hello\n",
    "hello"
   ]
  },
  {
   "cell_type": "markdown",
   "metadata": {},
   "source": [
    "## Problem 4: (10pts)\n",
    "There is a module in python called \"random\". It allows you to generate random integers and letters. You import modules in Python using the \"import statement.\" (Note: The Anaconda distribution of Python you used to load Python comes with a number of built in packages, so if you use import, Python may respond that you have already installed that).\n",
    "The syntax for importing numbers is as follows:"
   ]
  },
  {
   "cell_type": "code",
   "execution_count": null,
   "metadata": {},
   "outputs": [],
   "source": [
    "import random\n",
    "# I am asking random to generate a random number between 1 and 100 and\n",
    "#assigning it to the variable some_number\n",
    "some_number = random.randint(1,100)\n",
    "print(some_number)"
   ]
  },
  {
   "cell_type": "markdown",
   "metadata": {},
   "source": [
    "Write a script that generates a random number between one and ten and gives a user five tries to get the right number. Count the number of guesses. When the user does not guess it right, print an encouraging statement that they should keep trying, how many guesses they have left, and whether if their guess was too high or too low. Make sure you are tracking the number of guesses. When the user gets the number right, print \"You got it!\" and end the program"
   ]
  },
  {
   "cell_type": "code",
   "execution_count": null,
   "metadata": {},
   "outputs": [],
   "source": [
    "import random\n",
    "number = random.randint(1,10)\n",
    "print(number)\n",
    "number_tries = 1\n",
    "\n",
    "while True:  \n",
    "    random_guess = int(input(\"Guess a number between 1 and 10\"))\n",
    "    if random_guess == number:\n",
    "        print(\"You got it!\")\n",
    "        print()\n",
    "        print(f'Number of tries: {number_tries}')\n",
    "        break \n",
    "    else: \n",
    "        print(\"Keep trying\") \n",
    "        number_tries = number_tries + 1\n",
    "        if number_tries > 5:\n",
    "            print(\"Sorry, time is up.\")  \n",
    "            print()\n",
    "            print(f'Number of failed attempts: {number_tries}.')\n",
    "            break \n",
    "        else: \n",
    "            continue \n"
   ]
  },
  {
   "cell_type": "markdown",
   "metadata": {},
   "source": [
    "#### Short answer: What's the most efficient way to guess a correct number given these clues?"
   ]
  },
  {
   "cell_type": "code",
   "execution_count": null,
   "metadata": {},
   "outputs": [],
   "source": [
    "# As currently constituted, with each guess, you are not given any additional feedback -- i.e., how close or far you are, whether the number is even or odd, or anything like that.  Therefore, if you only guess a number between 1 and 10, then each number has a 1/10 probability to begin with; with each subsequent guess, your probability increases slightly - 1/9, 1/8, 1/7, and so on.  However, there is no way to guess systematically.  "
   ]
  },
  {
   "cell_type": "markdown",
   "metadata": {},
   "source": [
    "## Problem 5: Strings and Lists (20pts)\n",
    "\n"
   ]
  },
  {
   "cell_type": "markdown",
   "metadata": {},
   "source": [
    "Here is a partial list of treaties unsigned or unratified by the US:\n",
    "US_unratified_treaties=\n",
    "'Optional Protocol to the Convention against Torture', 'International Convention for the Protection of All Persons from Enforced Disappearance','Convention on the Rights of Persons with Disabilities','Convention on Cluster Munitions', 'Anti-Counterfeiting Trade Agreement','Arms Trade Treaty', 'Trans-Pacific Partnership', 'Paris Agreement'"
   ]
  },
  {
   "cell_type": "markdown",
   "metadata": {},
   "source": [
    "(1pt) Slice the string above to print the 'Convention on the Rights of Persons with Disabilities' "
   ]
  },
  {
   "cell_type": "code",
   "execution_count": null,
   "metadata": {},
   "outputs": [],
   "source": [
    "US_unratified_treaties = ['Optional Protocol to the Convention against Torture', 'International Convention for the Protection of All Persons from Enforced Disappearance' , 'Convention on the Rights of Persons with Disabilities' , 'Convention on Cluster Munitions' , 'Anti-Counterfeiting Trade Agreement' , 'Arms Trade Treaty', 'Trans-Pacific Partnership' , 'Paris Agreement']\n",
    "\n",
    "Disabilities_treaty = US_unratified_treaties[2]\n",
    "\n",
    "print(Disabilities_treaty)"
   ]
  },
  {
   "cell_type": "markdown",
   "metadata": {},
   "source": [
    "(1pt) Slice the string above to print the last three treaties the US has not ratified."
   ]
  },
  {
   "cell_type": "code",
   "execution_count": null,
   "metadata": {},
   "outputs": [],
   "source": [
    "last_three_treaties = US_unratified_treaties[-3:]\n",
    "\n",
    "print(last_three_treaties)"
   ]
  },
  {
   "cell_type": "markdown",
   "metadata": {},
   "source": [
    "(1pt) Slice the string above to print every other treaty that the US has not ratified."
   ]
  },
  {
   "cell_type": "code",
   "execution_count": null,
   "metadata": {},
   "outputs": [],
   "source": [
    "last_three_treaties.append(Disabilities_treaty) #I understood 'every other' here to mean every other treaty which has not been printed thus far\n",
    "\n",
    "for treaty in US_unratified_treaties:\n",
    "    if treaty in last_three_treaties:\n",
    "        pass\n",
    "    else: \n",
    "        print(treaty)\n"
   ]
  },
  {
   "cell_type": "code",
   "execution_count": null,
   "metadata": {},
   "outputs": [],
   "source": [
    "counter = 0 #This is every other in the sense of add one, skip one, add one, skip one\n",
    "\n",
    "for treaty in US_unratified_treaties:\n",
    "    counter = counter + 1 \n",
    "    if counter %2 == 0:\n",
    "        print(treaty)"
   ]
  },
  {
   "cell_type": "markdown",
   "metadata": {},
   "source": [
    "(2pts) Slice the string above to print the last two and the first two strings that the US has not ratified."
   ]
  },
  {
   "cell_type": "code",
   "execution_count": null,
   "metadata": {},
   "outputs": [],
   "source": [
    "US_unratified_treaties = ['Optional Protocol to the Convention against Torture', 'International Convention for the Protection of All Persons from Enforced Disappearance' , 'Convention on the Rights of Persons with Disabilities' , 'Convention on Cluster Munitions' , 'Anti-Counterfeiting Trade Agreement' , 'Arms Trade Treaty', 'Trans-Pacific Partnership' , 'Paris Agreement']\n",
    "\n",
    "y = (US_unratified_treaties[:2])\n",
    "x = (US_unratified_treaties[-2:])\n",
    "z = x + y\n",
    "\n",
    "print(z)\n",
    "\n",
    "      "
   ]
  },
  {
   "cell_type": "markdown",
   "metadata": {},
   "source": [
    "(2pts) Tell me why the following code won't work and change it so it will. Interpret the output.\n",
    "US_unratified_treaties.find ('Torture')"
   ]
  },
  {
   "cell_type": "code",
   "execution_count": null,
   "metadata": {},
   "outputs": [],
   "source": [
    "# .find is a string function, not a function for finding an item in a list.  \n",
    "\n",
    "outlist = []\n",
    "\n",
    "for treaties in US_unratified_treaties:\n",
    "    x = treaties.find('Torture')\n",
    "    if x >= 0: \n",
    "        outlist.append(treaties)\n",
    "\n",
    "print(outlist)\n",
    "\n",
    "#If a list does not contain the word searched for (torture in this case), then Python returns -1. \n",
    "#If the word is found, then Python returns the position of the first letter of the word in the \n",
    "#So this for loop searches each item in the list and if torture is found, then it adds it to a new list.  "
   ]
  },
  {
   "cell_type": "code",
   "execution_count": null,
   "metadata": {},
   "outputs": [],
   "source": [
    "outlist2 = []\n",
    "\n",
    "for treaties in US_unratified_treaties:\n",
    "    x = treaties.find('International')\n",
    "    print(x)\n",
    "    if x>=0:\n",
    "        outlist2.append(treaties)\n",
    "\n",
    "print(outlist2)"
   ]
  },
  {
   "cell_type": "markdown",
   "metadata": {},
   "source": [
    "(1pt) Convert the US_unratified_treaties to a list"
   ]
  },
  {
   "cell_type": "code",
   "execution_count": null,
   "metadata": {},
   "outputs": [],
   "source": [
    "Unratified_treaties_str = \"Optional Protocol to the Convention against Torture, International Convention for the Protection of All Persons from Enforced Disappearance,Convention on the Rights of Persons with Disabilities,Convention on Cluster Munitions, Anti-Counterfeiting Trade Agreement,Arms Trade Treaty, Trans-Pacific Partnership, Paris Agreement\"\n",
    "\n",
    "Unratified_treaties_list = Unratified_treaties_str.split(\",\")\n",
    "\n",
    "print(Unratified_treaties_list)\n"
   ]
  },
  {
   "cell_type": "markdown",
   "metadata": {},
   "source": [
    "(4pts) Write a for loop to append the treatise with the word \"Trade\" in the title to create a new list called \"Trade Treaties\" "
   ]
  },
  {
   "cell_type": "code",
   "execution_count": null,
   "metadata": {},
   "outputs": [],
   "source": [
    "Trade_treaties = []\n",
    "\n",
    "for treaties in Unratified_treaties_list:\n",
    "    x = treaties.find('Trade')\n",
    "    if x>=0:\n",
    "        Trade_treaties.append(treaties)\n",
    "\n",
    "print(Trade_treaties) "
   ]
  },
  {
   "cell_type": "markdown",
   "metadata": {},
   "source": [
    "(2pts) From your original list, add the following treatise one at a time with a script that automates their addition. Print the list.\n",
    "\n",
    "Convention on Biological Diversity, \n",
    "Convention on the Safety of United Nations and Associated Personnel, \n",
    "Comprehensive Test Ban Treaty, Kyoto Protocol,Ottawa Treaty,Rome Statute of the International Criminal Court"
   ]
  },
  {
   "cell_type": "code",
   "execution_count": null,
   "metadata": {},
   "outputs": [],
   "source": [
    "US_unratified_treaties = ['Optional Protocol to the Convention against Torture', 'International Convention for the Protection of All Persons from Enforced Disappearance' , 'Convention on the Rights of Persons with Disabilities' , 'Convention on Cluster Munitions' , 'Anti-Counterfeiting Trade Agreement' , 'Arms Trade Treaty', 'Trans-Pacific Partnership' , 'Paris Agreement']\n",
    "\n",
    "New_treaties = [\"Convention on Biological Diversity\", \"Convention on the Safety of United Nations and Associated Personnel\" , \n",
    "\"Comprehensive Test Ban Treaty\" , \"Kyoto Protocol\" , \"Ottawa Treaty\" ,\" Rome Statute of the International Criminal Court\"]\n",
    "\n",
    "for treaty in New_treaties: \n",
    "    US_unratified_treaties.extend([treaty])\n",
    "\n",
    "print(US_unratified_treaties)\n",
    "\n"
   ]
  },
  {
   "cell_type": "markdown",
   "metadata": {},
   "source": [
    "(2pts) Now remove the treatise you added and print the list"
   ]
  },
  {
   "cell_type": "code",
   "execution_count": null,
   "metadata": {},
   "outputs": [],
   "source": [
    "del(US_unratified_treaties[-6:])\n",
    "\n",
    "print(US_unratified_treaties)"
   ]
  },
  {
   "cell_type": "markdown",
   "metadata": {},
   "source": [
    "(2pts) Now add the treaties all at once and print the list."
   ]
  },
  {
   "cell_type": "code",
   "execution_count": null,
   "metadata": {},
   "outputs": [],
   "source": [
    "US_unratified_treaties.extend(New_treaties)\n",
    "\n",
    "print(US_unratified_treaties)"
   ]
  },
  {
   "cell_type": "markdown",
   "metadata": {},
   "source": [
    "(2pts) Now replace the Rome Statute of the International Criminal Court with the Moon Treaty"
   ]
  },
  {
   "cell_type": "code",
   "execution_count": null,
   "metadata": {},
   "outputs": [],
   "source": [
    "US_unratified_treaties[-1] = \"Moon Treaty\"\n",
    "\n",
    "print(US_unratified_treaties)"
   ]
  },
  {
   "cell_type": "markdown",
   "metadata": {},
   "source": [
    "## Problem 6: Clean Up (10pts)"
   ]
  },
  {
   "cell_type": "markdown",
   "metadata": {},
   "source": [
    "Write a for loop that returns a list of surnames of Nobel Peace Prize Winners."
   ]
  },
  {
   "cell_type": "code",
   "execution_count": null,
   "metadata": {},
   "outputs": [],
   "source": [
    "nobel_messy = [['Xiabobo', '!', ',', ':', ',', '@@', '%','^','&', 'King','Sato', '1945'],['Nuclear', 'Chemical'], ['Obama', 'Sirleaf', 'Walesa', 'Robles']]\n",
    "\n",
    "nobel_winners = []\n",
    "\n",
    "for multiplelists in nobel_messy:\n",
    "    for names in multiplelists:\n",
    "        if names == '!' or names == ',' or names == ':' or names ==  '@@' or names == '%' or names == '^' or names == '&' or names == '1945' or names == 'Nuclear' or names == 'Chemical':\n",
    "            pass \n",
    "        else: \n",
    "            nobel_winners.append(names)\n",
    "    \n",
    "print('List of Nobel Winners:', (nobel_winners))"
   ]
  },
  {
   "cell_type": "markdown",
   "metadata": {},
   "source": [
    "## Problem 7: Pig Latin Translator (10 points)¶\n",
    "\n",
    "Write code that translates a name into (simplified) Pig Latin. (Please do not make this a 'real' Pig Latin translator.) Have your script ask the user for his or her name, which can comprise first, middle, and/or last parts. For each name part, move the first letter to the end of the part and append the letters \"ay\".\n",
    "\n",
    "Make sure that only the first letter of each word in your output is capitalized. You can use the split() method on the string to create a list of the name parts. Be sure that your script can handle one, two or three name parts separated by spaces. This will likely involve a loop.\n",
    "\n",
    "Your script should re-create the following example exactly:\n",
    "\n",
    "Enter your name: Casey King\n",
    "\n",
    "Aseycay Ingkay"
   ]
  },
  {
   "cell_type": "code",
   "execution_count": null,
   "metadata": {},
   "outputs": [],
   "source": [
    "Name = input(\"Please enter your full name: \")\n",
    "New_list = Name.split()\n",
    "Out_string = \"\"\n",
    "\n",
    "for parts in New_list:\n",
    "    x = parts[1:] + parts[0] + \"ay\"\n",
    "    Out_string = Out_string + \" \" + (x.capitalize()) \n",
    "    \n",
    "print(Out_string)    "
   ]
  }
 ],
 "metadata": {
  "kernelspec": {
   "display_name": "Python 3",
   "language": "python",
   "name": "python3"
  },
  "language_info": {
   "codemirror_mode": {
    "name": "ipython",
    "version": 3
   },
   "file_extension": ".py",
   "mimetype": "text/x-python",
   "name": "python",
   "nbconvert_exporter": "python",
   "pygments_lexer": "ipython3",
   "version": "3.8.8"
  }
 },
 "nbformat": 4,
 "nbformat_minor": 2
}
