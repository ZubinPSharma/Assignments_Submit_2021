{
 "cells": [
  {
   "cell_type": "markdown",
   "metadata": {},
   "source": [
    "## Homework Week 5"
   ]
  },
  {
   "cell_type": "markdown",
   "metadata": {},
   "source": [
    "### Conditionals and Loops(10pts)\n",
    "\n",
    "<b> +1 Bonus if you can do the for-loops in one line (using list comprehension) </b> "
   ]
  },
  {
   "cell_type": "markdown",
   "metadata": {},
   "source": [
    "Use a \"for-loop\", print out all the odd numbers from 1-100."
   ]
  },
  {
   "cell_type": "code",
   "execution_count": 1,
   "metadata": {},
   "outputs": [
    {
     "name": "stdout",
     "output_type": "stream",
     "text": [
      "1\n",
      "3\n",
      "5\n",
      "7\n",
      "9\n",
      "11\n",
      "13\n",
      "15\n",
      "17\n",
      "19\n",
      "21\n",
      "23\n",
      "25\n",
      "27\n",
      "29\n",
      "31\n",
      "33\n",
      "35\n",
      "37\n",
      "39\n",
      "41\n",
      "43\n",
      "45\n",
      "47\n",
      "49\n",
      "51\n",
      "53\n",
      "55\n",
      "57\n",
      "59\n",
      "61\n",
      "63\n",
      "65\n",
      "67\n",
      "69\n",
      "71\n",
      "73\n",
      "75\n",
      "77\n",
      "79\n",
      "81\n",
      "83\n",
      "85\n",
      "87\n",
      "89\n",
      "91\n",
      "93\n",
      "95\n",
      "97\n",
      "99\n"
     ]
    }
   ],
   "source": [
    "#answer with for-loop but in multiple lines\n",
    "\n",
    "nums = list(range(1,100))\n",
    "\n",
    "for num in nums: \n",
    "    if num % 2 == 0:\n",
    "        pass \n",
    "    else: \n",
    "        print(num)"
   ]
  },
  {
   "cell_type": "code",
   "execution_count": 4,
   "metadata": {},
   "outputs": [
    {
     "name": "stdout",
     "output_type": "stream",
     "text": [
      "[1, 3, 5, 7, 9, 11, 13, 15, 17, 19, 21, 23, 25, 27, 29, 31, 33, 35, 37, 39, 41, 43, 45, 47, 49, 51, 53, 55, 57, 59, 61, 63, 65, 67, 69, 71, 73, 75, 77, 79, 81, 83, 85, 87, 89, 91, 93, 95, 97, 99]\n"
     ]
    }
   ],
   "source": [
    "#answer with for-loop but in multiple lines and all in a single list\n",
    "\n",
    "nums = list(range(1,100))\n",
    "odds = []\n",
    "\n",
    "for num in nums: \n",
    "    if num % 2 == 0:\n",
    "        pass \n",
    "    else: \n",
    "        odds.append(num)\n",
    "\n",
    "print(odds)"
   ]
  },
  {
   "cell_type": "code",
   "execution_count": 5,
   "metadata": {},
   "outputs": [
    {
     "name": "stdout",
     "output_type": "stream",
     "text": [
      "[1, 3, 5, 7, 9, 11, 13, 15, 17, 19, 21, 23, 25, 27, 29, 31, 33, 35, 37, 39, 41, 43, 45, 47, 49, 51, 53, 55, 57, 59, 61, 63, 65, 67, 69, 71, 73, 75, 77, 79, 81, 83, 85, 87, 89, 91, 93, 95, 97, 99]\n"
     ]
    }
   ],
   "source": [
    "#answer with for-loop, single list, and range\n",
    "\n",
    "odds = []\n",
    "\n",
    "for x in range(100):\n",
    "    if x % 2 == 1:\n",
    "        odds.append(x)\n",
    "\n",
    "print(odds)"
   ]
  },
  {
   "cell_type": "code",
   "execution_count": 133,
   "metadata": {},
   "outputs": [
    {
     "name": "stdout",
     "output_type": "stream",
     "text": [
      "[1, 3, 5, 7, 9, 11, 13, 15, 17, 19, 21, 23, 25, 27, 29, 31, 33, 35, 37, 39, 41, 43, 45, 47, 49, 51, 53, 55, 57, 59, 61, 63, 65, 67, 69, 71, 73, 75, 77, 79, 81, 83, 85, 87, 89, 91, 93, 95, 97, 99]\n"
     ]
    }
   ],
   "source": [
    "#answer with for-loop and range, all in a single line of code\n",
    "\n",
    "odds = [x for x in range(100) if x % 2 == 1]\n",
    "print(odds)"
   ]
  },
  {
   "cell_type": "markdown",
   "metadata": {},
   "source": [
    "Print every prime number between 1 and 100. (You can use two for-loops, one to iterate from 1-100, another to check for any denominators)"
   ]
  },
  {
   "cell_type": "code",
   "execution_count": 10,
   "metadata": {},
   "outputs": [
    {
     "name": "stdout",
     "output_type": "stream",
     "text": [
      "1\n",
      "2\n",
      "3\n",
      "5\n",
      "7\n",
      "11\n",
      "13\n",
      "17\n",
      "19\n",
      "23\n",
      "29\n",
      "31\n",
      "37\n",
      "41\n",
      "43\n",
      "47\n",
      "53\n",
      "59\n",
      "61\n",
      "67\n",
      "71\n",
      "73\n",
      "79\n",
      "83\n",
      "89\n",
      "97\n"
     ]
    }
   ],
   "source": [
    "#go through each number from 1 to 100, one at a time\n",
    "#for each number, see if it is divisible by any number besides 1 and itself\n",
    "#confusing part is ... we need to check if ANY number greater than 1 and half the number goes into it\n",
    "#if yes, then skip it\n",
    "#else, print it\n",
    "\n",
    "for nums in range(1,101):\n",
    "    if nums >= 1:\n",
    "        for i in range(2, nums):\n",
    "            if (nums % i) == 0:\n",
    "                break\n",
    "        else:\n",
    "            print(nums)"
   ]
  },
  {
   "cell_type": "markdown",
   "metadata": {},
   "source": [
    "Take two numbers from the user, an upper bound and a lower bound. Using a loop, calculate the sum of numbers from the lower bound to the upper bound. Also, calculate the average of numbers. Print the result."
   ]
  },
  {
   "cell_type": "code",
   "execution_count": 11,
   "metadata": {},
   "outputs": [
    {
     "name": "stdout",
     "output_type": "stream",
     "text": [
      "Upper bound: 10\n",
      "Lower bound: 8\n",
      "27\n",
      "9.0\n"
     ]
    }
   ],
   "source": [
    "upper_bound = int(input(\"Upper bound: \"))\n",
    "lower_bound = int(input(\"Lower bound: \"))\n",
    "sum = 0\n",
    "\n",
    "if lower_bound > upper_bound:\n",
    "    print(\"Please re-enter the numbers\")\n",
    "\n",
    "else: \n",
    "    for i in range(lower_bound, upper_bound + 1):\n",
    "        sum = sum + i\n",
    "\n",
    "print(sum)\n",
    "\n",
    "average = sum / len(range(lower_bound, upper_bound + 1))\n",
    "\n",
    "print(average)"
   ]
  },
  {
   "cell_type": "markdown",
   "metadata": {},
   "source": [
    "Use a \"while\" loop to print out every fourth number counting backwards from 100 to 1, use the \"break\" statement to exit the loop."
   ]
  },
  {
   "cell_type": "code",
   "execution_count": 146,
   "metadata": {},
   "outputs": [
    {
     "name": "stdout",
     "output_type": "stream",
     "text": [
      "100\n",
      "96\n",
      "92\n",
      "88\n",
      "84\n",
      "80\n",
      "76\n",
      "72\n",
      "68\n",
      "64\n",
      "60\n",
      "56\n",
      "52\n",
      "48\n",
      "44\n",
      "40\n",
      "36\n",
      "32\n",
      "28\n",
      "24\n",
      "20\n",
      "16\n",
      "12\n",
      "8\n",
      "4\n"
     ]
    }
   ],
   "source": [
    "#one way of solving the problem without a break statement\n",
    "\n",
    "count = 101\n",
    "\n",
    "while count > 1:\n",
    "    count = count - 1\n",
    "    if count % 4 == 0:\n",
    "        print(count)\n",
    "    else:\n",
    "        pass"
   ]
  },
  {
   "cell_type": "code",
   "execution_count": 12,
   "metadata": {},
   "outputs": [
    {
     "name": "stdout",
     "output_type": "stream",
     "text": [
      "100\n",
      "96\n",
      "92\n",
      "88\n",
      "84\n",
      "80\n",
      "76\n",
      "72\n",
      "68\n",
      "64\n",
      "60\n",
      "56\n",
      "52\n",
      "48\n",
      "44\n",
      "40\n",
      "36\n",
      "32\n",
      "28\n",
      "24\n",
      "20\n",
      "16\n",
      "12\n",
      "8\n",
      "4\n"
     ]
    }
   ],
   "source": [
    "#another way with a break statement \n",
    "\n",
    "count = 101\n",
    "\n",
    "while count > 1:\n",
    "    count = count - 1\n",
    "    if count % 4 == 0:\n",
    "        print(count)\n",
    "    if count == 0:\n",
    "        break"
   ]
  },
  {
   "cell_type": "markdown",
   "metadata": {},
   "source": [
    "Write a script that prints out all the squares of numbers from a user inputed lower to a user inputed upper bound.\n",
    "\n",
    "Use a for loop that demonstrates the use of the range function."
   ]
  },
  {
   "cell_type": "code",
   "execution_count": 148,
   "metadata": {},
   "outputs": [
    {
     "name": "stdout",
     "output_type": "stream",
     "text": [
      "Upper bound: 10\n",
      "Lower bound: 5\n",
      "\n",
      "25\n",
      "\n",
      "36\n",
      "\n",
      "49\n",
      "\n",
      "64\n",
      "\n",
      "81\n",
      "\n",
      "100\n"
     ]
    }
   ],
   "source": [
    "#range defined as a variable x and then used in for loop\n",
    "\n",
    "upper_bound = int(input(\"Upper bound: \"))\n",
    "lower_bound = int(input(\"Lower bound: \"))\n",
    "x = range(lower_bound, upper_bound + 1, 1)\n",
    "\n",
    "if lower_bound > upper_bound:\n",
    "    print(\"Please re-enter the numbers\")\n",
    "\n",
    "else: \n",
    "    for value in x:\n",
    "        print()\n",
    "        print(value**2)"
   ]
  },
  {
   "cell_type": "code",
   "execution_count": 150,
   "metadata": {},
   "outputs": [
    {
     "name": "stdout",
     "output_type": "stream",
     "text": [
      "Upper bound: 10\n",
      "Lower bound: 8\n",
      "64\n",
      "81\n",
      "100\n"
     ]
    }
   ],
   "source": [
    "#second way of doing it with a for loop for a variable within a specified range \n",
    "\n",
    "upper_bound = int(input(\"Upper bound: \"))\n",
    "lower_bound = int(input(\"Lower bound: \"))\n",
    "\n",
    "for i in range(lower_bound, upper_bound + 1):\n",
    "    i = i**2 \n",
    "    print(i)\n"
   ]
  },
  {
   "cell_type": "markdown",
   "metadata": {},
   "source": [
    "### Print the Pattern (10 pts)\n",
    "\n",
    "Print the following pattern using for-loops\n",
    "\n",
    "1 <br>\n",
    "1 2 <br>\n",
    "1 2 3 <br>\n",
    "1 2 3 4 <br>\n",
    "1 2 3 4 5 <br>\n"
   ]
  },
  {
   "cell_type": "code",
   "execution_count": 55,
   "metadata": {},
   "outputs": [
    {
     "name": "stdout",
     "output_type": "stream",
     "text": [
      "1\n",
      "1 2\n",
      "1 2 3\n",
      "1 2 3 4\n",
      "1 2 3 4 5\n"
     ]
    }
   ],
   "source": [
    "#this is just my own thinking and brainstorming, trying to understand what I need to get the for-loop to do\n",
    "\n",
    "x = 1\n",
    "\n",
    "print(x)\n",
    "print(x, x+1)\n",
    "print(x, x+1, x+2)\n",
    "print(x, x+1, x+2, x+3)\n",
    "print(x, x+1, x+2, x+3, x+4)\n",
    "\n",
    "\n",
    "\n",
    "\n"
   ]
  },
  {
   "cell_type": "code",
   "execution_count": 165,
   "metadata": {},
   "outputs": [
    {
     "name": "stdout",
     "output_type": "stream",
     "text": [
      "1 \n",
      "1 2 \n",
      "1 2 3 \n",
      "1 2 3 4 \n",
      "1 2 3 4 5 \n"
     ]
    }
   ],
   "source": [
    "x = 5\n",
    "\n",
    "for i in range(1, x + 1):\n",
    "    for j in range(1, i + 1):\n",
    "        print(j, end= \" \")\n",
    "    print(\"\")"
   ]
  },
  {
   "cell_type": "markdown",
   "metadata": {},
   "source": [
    "### Mock Font Generator (10 pts)\n",
    "\n",
    "Transform the string below by randomly capitalizing each letter. For each letter in the string, use the random number generator from the last assignment to generate a random number from 1-100. If the number is greater than 50, then capitalize this letter in the transformed string. \n",
    "\n",
    "Example output: sPoNGeBoB SquArE PaNtS"
   ]
  },
  {
   "cell_type": "code",
   "execution_count": 19,
   "metadata": {},
   "outputs": [
    {
     "name": "stdout",
     "output_type": "stream",
     "text": [
      "say something: hello my name is \n",
      "HeLlO mY nAmE Is \n"
     ]
    }
   ],
   "source": [
    "#generate number with import random \n",
    "\n",
    "import random\n",
    "string = input(\"say something: \")\n",
    "output = \"\"\n",
    "\n",
    "for letter in string:\n",
    "    some_number = random.randint(1,100)\n",
    "    if some_number > 50:\n",
    "        x = letter.capitalize()\n",
    "    else: \n",
    "        x = letter \n",
    "    output = output + x\n",
    "\n",
    "print(output)"
   ]
  },
  {
   "cell_type": "markdown",
   "metadata": {},
   "source": [
    "### Sets (10 pts)¶\n",
    "\n",
    "Write a script that prompts the user for two words (two, one-word strings). Print all the unique letters that are common to both words, in alphabetical order, using for loops in your solution.\n",
    "\n",
    "For example:\n",
    "\n",
    "Enter one word: Home\n",
    "Enter another word: meter\n",
    "\n",
    "Letters in common: em"
   ]
  },
  {
   "cell_type": "code",
   "execution_count": 173,
   "metadata": {},
   "outputs": [
    {
     "name": "stdout",
     "output_type": "stream",
     "text": [
      "first word: ayangbe\n",
      "second word: mannen\n",
      "['a', 'e', 'n']\n"
     ]
    }
   ],
   "source": [
    "#this is just my own brainstorming to try to understand the question \n",
    "#input first word as a set\n",
    "#input second word as a set\n",
    "#find intersection \n",
    "#alphabetize intersection \n",
    "#print\n",
    "\n",
    "first = set(input(\"first word: \"))\n",
    "second = set(input(\"second word: \"))\n",
    "\n",
    "third = first.intersection(second)\n",
    "\n",
    "fourth = sorted(third)\n",
    "\n",
    "print(fourth)"
   ]
  },
  {
   "cell_type": "code",
   "execution_count": 51,
   "metadata": {},
   "outputs": [
    {
     "name": "stdout",
     "output_type": "stream",
     "text": [
      "first word: hello\n",
      "second word: mello\n",
      "elo\n"
     ]
    }
   ],
   "source": [
    "#using join to print out the unique letters common to both words as a string rather than a list\n",
    "\n",
    "first = set(input(\"first word: \"))\n",
    "second = set(input(\"second word: \"))\n",
    "third = \"\"\n",
    "\n",
    "for i in first:\n",
    "    for j in second:\n",
    "        if i == j:\n",
    "            third = third + i + j\n",
    "            \n",
    "print(\"\".join(sorted(set(third))))"
   ]
  },
  {
   "cell_type": "markdown",
   "metadata": {},
   "source": [
    "### Lists (10 pts)"
   ]
  },
  {
   "cell_type": "markdown",
   "metadata": {},
   "source": [
    "Given a word, provided below, make a list of all strings that can be formed by deleting exactly one character from the word.\n",
    "\n",
    "Example:\n",
    "\n",
    "Input: \"Welcomed\"\n",
    "\n",
    "Output: ['elcomed', 'Wlcomed', 'Wecomed', 'Welomed', 'Welcmed', 'Welcoed', 'Welcomd', 'Welcome']"
   ]
  },
  {
   "cell_type": "code",
   "execution_count": 63,
   "metadata": {},
   "outputs": [
    {
     "name": "stdout",
     "output_type": "stream",
     "text": [
      "please enter a wordindia\n",
      "['ndia', 'idia', 'inia', 'inda', 'indi']\n"
     ]
    }
   ],
   "source": [
    "#word is inputted \n",
    "#loop goes through the word and deletes letters one at a time\n",
    "#one way of referring to the letters is via index\n",
    "#length for the length of the word\n",
    "#then refer to first\n",
    "\n",
    "word = input(\"please enter a word\")\n",
    "word_length = len(word)\n",
    "output = []\n",
    "\n",
    "for i in range(0, word_length):\n",
    "    res_str = word[:i] + word[i+1:] \n",
    "    output.append(res_str)\n",
    "\n",
    "print(output)"
   ]
  },
  {
   "cell_type": "markdown",
   "metadata": {},
   "source": [
    "### Dictionary Drills (10 pts)"
   ]
  },
  {
   "cell_type": "markdown",
   "metadata": {},
   "source": [
    "Write a script that takes a sentence from the user and returns:\n",
    "    - the number of lower case letters\n",
    "    - the number of uppercase letters\n",
    "    - the number of punctuation characters\n",
    "    - the total number of characters\n",
    "\n",
    "Use a dictionay to store the count of each of the above.\n",
    "Note: ignore all spaces\n",
    "\n",
    "Example input:\n",
    "    I love to work with dictionaries! \n",
    "Example output:\n",
    "       Uppercase: 1\n",
    "       Lowercase: 26\n",
    "       Punctuation: 1 "
   ]
  },
  {
   "cell_type": "code",
   "execution_count": 75,
   "metadata": {},
   "outputs": [
    {
     "name": "stdout",
     "output_type": "stream",
     "text": [
      "Enter a sentence: hI hElL0 : !\n",
      "{'Uppercase': 3, 'Lowercase': 3, 'Punctuation': 3}\n"
     ]
    }
   ],
   "source": [
    "#take input\n",
    "#variable for lowers as a dictionary\n",
    "#code to count lowers\n",
    "#variable for uppers as a dictionary\n",
    "#code to count uppers\n",
    "#code to count punctuation\n",
    "#variable for punctuation as a dictionary\n",
    "\n",
    "string = input(\"Enter a sentence: \")\n",
    "string = string.replace(\" \", \"\")\n",
    "\n",
    "upper=0\n",
    "lower=0\n",
    "punctuation = 0\n",
    "\n",
    "for i in range(len(string)):\n",
    "    if (string[i]>='a' and string[i]<='z'):\n",
    "        lower+=1\n",
    "    elif(string[i]>='A' and string[i]<='Z'):\n",
    "          upper+=1\n",
    "    else: \n",
    "        punctuation = punctuation + 1  \n",
    "        \n",
    "        dictionary = {\"Uppercase\": int(upper), \"Lowercase\": int(lower), \"Punctuation\": int(punctuation)}\n",
    "        \n",
    "print(dictionary)"
   ]
  },
  {
   "cell_type": "markdown",
   "metadata": {},
   "source": [
    "Take in a number from the user and print \"January\", \"Feburary\", \"March\", \"April\", ..., \"December\" or \"other\" if the number from the user is 1, 2, 3, 4, ..., 12 or other respectively. \n",
    "\n"
   ]
  },
  {
   "cell_type": "code",
   "execution_count": 76,
   "metadata": {},
   "outputs": [
    {
     "name": "stdout",
     "output_type": "stream",
     "text": [
      "enter a number: 3\n",
      "March\n"
     ]
    }
   ],
   "source": [
    "#take number\n",
    "#that number should be defined in a dictionary as a key and should have an assigned value\n",
    "#then print the dictionary with an index of the number that is inputted \n",
    "#simultaneously use if statement to see if x > 12, and if so, print 'other'\n",
    "\n",
    "num = input(\"enter a number: \")\n",
    "x = int(num)\n",
    "month_dict = {\"1\": \"January\", \"2\": \"February\", \"3\": \"March\", \"4\": \"April\", \"5\": \"May\", \"6\": \"June\", \"7\": \"July\", \"8\": \"August\", \"9\": \"September\", \"10\": \"October\", \"11\": \"November\", \"12\": \"December\"}\n",
    "\n",
    "if x > 12:\n",
    "    print(\"Other\")\n",
    "\n",
    "else:\n",
    "    print(month_dict[num])"
   ]
  },
  {
   "cell_type": "markdown",
   "metadata": {},
   "source": [
    "Creat a new dictionary using the three dictionaries below. Then print out each key-value pair.\n",
    "\n",
    "dict_1 = {1:1, 2:4}\n",
    "dict_2 = {3:9, 4:16}\n",
    "dict_3 = {5:25, 6:36, 7:49}\n",
    "\n"
   ]
  },
  {
   "cell_type": "code",
   "execution_count": 59,
   "metadata": {},
   "outputs": [
    {
     "name": "stdout",
     "output_type": "stream",
     "text": [
      "{1: 1, 2: 4, 3: 9, 4: 16, 5: 25, 6: 36, 7: 49}\n"
     ]
    }
   ],
   "source": [
    "#Create new variable dict_4\n",
    "#Use copy to copy dict_1 keys and values into dict_4\n",
    "#then use update to add dict 2 and dict 3 keys and values\n",
    "\n",
    "dict_1 = {1:1, 2:4}\n",
    "dict_2 = {3:9, 4:16}\n",
    "dict_3 = {5:25, 6:36, 7:49}\n",
    "\n",
    "dict_4 = dict_1.copy()\n",
    "dict_4.update(dict_2)\n",
    "dict_4.update(dict_3)\n",
    "\n",
    "print(dict_4)\n",
    "\n"
   ]
  },
  {
   "cell_type": "code",
   "execution_count": 60,
   "metadata": {},
   "outputs": [
    {
     "name": "stdout",
     "output_type": "stream",
     "text": [
      "{1: 1}\n",
      "{1: 1, 2: 4}\n",
      "{1: 1, 2: 4, 3: 9}\n",
      "{1: 1, 2: 4, 3: 9, 4: 16}\n",
      "{1: 1, 2: 4, 3: 9, 4: 16, 5: 25}\n",
      "{1: 1, 2: 4, 3: 9, 4: 16, 5: 25, 6: 36}\n",
      "{1: 1, 2: 4, 3: 9, 4: 16, 5: 25, 6: 36, 7: 49}\n"
     ]
    }
   ],
   "source": [
    "dict_1 = {1:1, 2:4}\n",
    "dict_2 = {3:9, 4:16}\n",
    "dict_3 = {5:25, 6:36, 7:49}\n",
    "dict_list = [dict_1, dict_2, dict_3]\n",
    "dict_4 = {}\n",
    "\n",
    "for dictionary in dict_list:\n",
    "    for key in dictionary:\n",
    "        value = dictionary[key]\n",
    "        dict_4[key] = value   \n",
    "        print(dict_4)"
   ]
  },
  {
   "cell_type": "markdown",
   "metadata": {},
   "source": [
    "### Chinese Zodiac (20 points)¶\n",
    "\n",
    "Write a Python program to display the sign of the Chinese Zodiac for given year in which you were born."
   ]
  },
  {
   "cell_type": "code",
   "execution_count": 63,
   "metadata": {},
   "outputs": [
    {
     "name": "stdout",
     "output_type": "stream",
     "text": [
      "Enter your birth month: February\n",
      "Ox\n"
     ]
    }
   ],
   "source": [
    "Month = input(\"Enter your birth month: \")\n",
    "\n",
    "Zodiac = {\"January\": \"Rat\", \"February\": \"Ox\", \"March\": \"Tiger\", \"April\": \"Rabbit\", \"May\": \"Dragon\", \"June\": \"Snake\", \"July\": \"Horse\", \"August\": \"Goat\", \"September\": \"Monkey\", \"October\": \"Rooster\", \"November\": \"Dog\", \"December\": \"Pig\"}\n",
    "\n",
    "print(Zodiac[Month]) "
   ]
  },
  {
   "cell_type": "markdown",
   "metadata": {},
   "source": [
    "\n",
    "### Fibonacci (20 points)¶\n",
    "\n",
    "The Fibonacci numbers begin with 1, 1. After the first two numbers, each number is the sum of the previous two. 1 + 1 = 2, so 2 is the third number. Then 1 + 2 = 3, so 3 is the next one, and so on. Write a script that prompts the user for an integer number, then prints all the Fibonacci numbers that are less than or equal to the input, in order.\n",
    "\n",
    "Example:\n",
    "\n",
    "Enter a number: 15\n",
    "\n",
    "1 1 2 3 5 8 13\n",
    "\n"
   ]
  },
  {
   "cell_type": "code",
   "execution_count": null,
   "metadata": {},
   "outputs": [],
   "source": [
    "fib_list = [2, 3, 5]\n",
    "fib_list[1:]\n",
    "\n",
    "#update fib_list variable with only 3 and 5\n",
    "#this is a truncation of the list "
   ]
  },
  {
   "cell_type": "code",
   "execution_count": 50,
   "metadata": {},
   "outputs": [
    {
     "name": "stdout",
     "output_type": "stream",
     "text": [
      "enter a number, friend: 10\n",
      "1\n",
      "1\n",
      "2\n",
      "3\n",
      "5\n",
      "8\n"
     ]
    }
   ],
   "source": [
    "fibonacci = int(input(\"enter a number, friend: \"))\n",
    "fib_list = [1, 1]\n",
    "print(1)\n",
    "print(1)\n",
    "j = 0\n",
    "\n",
    "while True: \n",
    "    j = fib_list[0] + fib_list[1]\n",
    "    if j < fibonacci: \n",
    "        print(j)\n",
    "    else: \n",
    "        break \n",
    "    \n",
    "    fib_list.append(j)\n",
    "    fib_list = fib_list[1:]"
   ]
  },
  {
   "cell_type": "markdown",
   "metadata": {},
   "source": [
    "### Extra Credit (15 pts): PEP 8 Style Guide (reading and response)\n",
    "\n",
    "Write a 250 word reading response to the article referenced below. In addition, please list 3 questions that you have from the article (the questions do not count towards the 250 word requirement). Please write your response in the markdown cell below.\n",
    "\n",
    "The writing response is a free response, so you may write about your reactions, such as an interesting thing that you saw in the article, something that really stuck out to you, etc.\n",
    "\n",
    "Article: The PEP 8 Style Guide: https://www.python.org/dev/peps/pep-0008/ This document is really important for Python coders because it describes best practices and customs.\n",
    "\n"
   ]
  },
  {
   "cell_type": "markdown",
   "metadata": {},
   "source": [
    "Your answer here: "
   ]
  }
 ],
 "metadata": {
  "kernelspec": {
   "display_name": "Python 3",
   "language": "python",
   "name": "python3"
  },
  "language_info": {
   "codemirror_mode": {
    "name": "ipython",
    "version": 3
   },
   "file_extension": ".py",
   "mimetype": "text/x-python",
   "name": "python",
   "nbconvert_exporter": "python",
   "pygments_lexer": "ipython3",
   "version": "3.8.8"
  }
 },
 "nbformat": 4,
 "nbformat_minor": 2
}
