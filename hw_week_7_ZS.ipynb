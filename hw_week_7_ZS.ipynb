{
 "cells": [
  {
   "cell_type": "markdown",
   "id": "58e5b4ee",
   "metadata": {},
   "source": [
    "### All the president's speeches\n",
    "45pts"
   ]
  },
  {
   "cell_type": "markdown",
   "id": "60ba26ce",
   "metadata": {},
   "source": [
    "As we learned last week, word frequency distribution is an intuitive way of determining the major themes, topics, or even preoccupations of the speech giver (to be even more fancy, checkout Term Frequency-Inverse Document Frequency - TF-IDF). Pull texts from different US presidents and use FreqDist() to gain insights into the data. This is a fairly open assignment. The goal is to identify something interesting! Pull the text, tokenize, remove stopwords, and plot the frequency of the words. That's the technical part. But much of this assignment is your ability to use word frequency (or TF-IDF) to gain insights comparatively, intra or inter presidents. Let the python code from our lecture be your guide! The more interesting and creative the analysis, the more points you will receive. We might pick one student's analysis to be displayed in lecture, and that person will receive bonus credit for the work."
   ]
  },
  {
   "cell_type": "code",
   "execution_count": 1,
   "id": "bcdb3ba5",
   "metadata": {},
   "outputs": [],
   "source": [
    "import nltk"
   ]
  },
  {
   "cell_type": "code",
   "execution_count": 2,
   "id": "d2be3419",
   "metadata": {},
   "outputs": [],
   "source": [
    "from nltk import FreqDist\n",
    "from nltk.tokenize import word_tokenize\n",
    "from nltk.corpus import inaugural "
   ]
  },
  {
   "cell_type": "code",
   "execution_count": 3,
   "id": "4752c7fb",
   "metadata": {},
   "outputs": [
    {
     "name": "stdout",
     "output_type": "stream",
     "text": [
      "['1789-Washington.txt', '1793-Washington.txt', '1797-Adams.txt', '1801-Jefferson.txt', '1805-Jefferson.txt', '1809-Madison.txt', '1813-Madison.txt', '1817-Monroe.txt', '1821-Monroe.txt', '1825-Adams.txt', '1829-Jackson.txt', '1833-Jackson.txt', '1837-VanBuren.txt', '1841-Harrison.txt', '1845-Polk.txt', '1849-Taylor.txt', '1853-Pierce.txt', '1857-Buchanan.txt', '1861-Lincoln.txt', '1865-Lincoln.txt', '1869-Grant.txt', '1873-Grant.txt', '1877-Hayes.txt', '1881-Garfield.txt', '1885-Cleveland.txt', '1889-Harrison.txt', '1893-Cleveland.txt', '1897-McKinley.txt', '1901-McKinley.txt', '1905-Roosevelt.txt', '1909-Taft.txt', '1913-Wilson.txt', '1917-Wilson.txt', '1921-Harding.txt', '1925-Coolidge.txt', '1929-Hoover.txt', '1933-Roosevelt.txt', '1937-Roosevelt.txt', '1941-Roosevelt.txt', '1945-Roosevelt.txt', '1949-Truman.txt', '1953-Eisenhower.txt', '1957-Eisenhower.txt', '1961-Kennedy.txt', '1965-Johnson.txt', '1969-Nixon.txt', '1973-Nixon.txt', '1977-Carter.txt', '1981-Reagan.txt', '1985-Reagan.txt', '1989-Bush.txt', '1993-Clinton.txt', '1997-Clinton.txt', '2001-Bush.txt', '2005-Bush.txt', '2009-Obama.txt', '2013-Obama.txt', '2017-Trump.txt']\n"
     ]
    }
   ],
   "source": [
    "print(inaugural.fileids())"
   ]
  },
  {
   "cell_type": "code",
   "execution_count": 4,
   "id": "1e43833f",
   "metadata": {},
   "outputs": [],
   "source": [
    "from nltk.corpus import stopwords\n",
    "stopwords = stopwords.words(\"english\")"
   ]
  },
  {
   "cell_type": "code",
   "execution_count": 5,
   "id": "8462a65e",
   "metadata": {},
   "outputs": [],
   "source": [
    "stopwords = nltk.corpus.stopwords.words('english')"
   ]
  },
  {
   "cell_type": "code",
   "execution_count": 6,
   "id": "ae80d624",
   "metadata": {},
   "outputs": [
    {
     "name": "stdout",
     "output_type": "stream",
     "text": [
      "['i', 'me', 'my', 'myself', 'we', 'our', 'ours', 'ourselves', 'you', \"you're\", \"you've\", \"you'll\", \"you'd\", 'your', 'yours', 'yourself', 'yourselves', 'he', 'him', 'his', 'himself', 'she', \"she's\", 'her', 'hers', 'herself', 'it', \"it's\", 'its', 'itself', 'they', 'them', 'their', 'theirs', 'themselves', 'what', 'which', 'who', 'whom', 'this', 'that', \"that'll\", 'these', 'those', 'am', 'is', 'are', 'was', 'were', 'be', 'been', 'being', 'have', 'has', 'had', 'having', 'do', 'does', 'did', 'doing', 'a', 'an', 'the', 'and', 'but', 'if', 'or', 'because', 'as', 'until', 'while', 'of', 'at', 'by', 'for', 'with', 'about', 'against', 'between', 'into', 'through', 'during', 'before', 'after', 'above', 'below', 'to', 'from', 'up', 'down', 'in', 'out', 'on', 'off', 'over', 'under', 'again', 'further', 'then', 'once', 'here', 'there', 'when', 'where', 'why', 'how', 'all', 'any', 'both', 'each', 'few', 'more', 'most', 'other', 'some', 'such', 'no', 'nor', 'not', 'only', 'own', 'same', 'so', 'than', 'too', 'very', 's', 't', 'can', 'will', 'just', 'don', \"don't\", 'should', \"should've\", 'now', 'd', 'll', 'm', 'o', 're', 've', 'y', 'ain', 'aren', \"aren't\", 'couldn', \"couldn't\", 'didn', \"didn't\", 'doesn', \"doesn't\", 'hadn', \"hadn't\", 'hasn', \"hasn't\", 'haven', \"haven't\", 'isn', \"isn't\", 'ma', 'mightn', \"mightn't\", 'mustn', \"mustn't\", 'needn', \"needn't\", 'shan', \"shan't\", 'shouldn', \"shouldn't\", 'wasn', \"wasn't\", 'weren', \"weren't\", 'won', \"won't\", 'wouldn', \"wouldn't\"]\n"
     ]
    }
   ],
   "source": [
    "print(stopwords)"
   ]
  },
  {
   "cell_type": "code",
   "execution_count": 26,
   "id": "690c5448",
   "metadata": {},
   "outputs": [],
   "source": [
    "trump1 = inaugural.raw('2017-Trump.txt')\n",
    "trump_words = inaugural.words('2017-Trump.txt')\n",
    "trump_list = list(trump_words)"
   ]
  },
  {
   "cell_type": "code",
   "execution_count": 36,
   "id": "960cb372",
   "metadata": {},
   "outputs": [],
   "source": [
    "trump_list = [word.lower() for word in trump_list]\n",
    "filtered_trump_speech = [i for i in trump_list if not i in stopwords and i.isalpha()]"
   ]
  },
  {
   "cell_type": "code",
   "execution_count": 37,
   "id": "570ff0c6",
   "metadata": {},
   "outputs": [
    {
     "name": "stdout",
     "output_type": "stream",
     "text": [
      "<FreqDist with 453 samples and 712 outcomes>\n"
     ]
    }
   ],
   "source": [
    "trump_freq = FreqDist(filtered_trump_speech)\n",
    "print(trump_freq)"
   ]
  },
  {
   "cell_type": "code",
   "execution_count": 96,
   "id": "bed5b4bc",
   "metadata": {},
   "outputs": [
    {
     "name": "stdout",
     "output_type": "stream",
     "text": [
      "[('america', 20), ('american', 11), ('people', 10), ('country', 9), ('one', 8), ('nation', 8), ('every', 7), ('world', 6), ('great', 6), ('back', 6), ('never', 6), ('new', 6), ('president', 5), ('many', 5), ('today', 5), ('protected', 5), ('across', 5), ('right', 5), ('dreams', 5), ('god', 5), ('make', 5), ('americans', 4), ('thank', 4), ('citizens', 4), ('together', 4), ('power', 4), ('first', 4), ('wealth', 4), ('jobs', 4), ('everyone', 4)]\n"
     ]
    },
    {
     "data": {
      "image/png": "[encoded data removed]",
      "text/plain": [
       "<Figure size 432x288 with 1 Axes>"
      ]
     },
     "metadata": {
      "needs_background": "light"
     },
     "output_type": "display_data"
    },
    {
     "name": "stdout",
     "output_type": "stream",
     "text": [
      "AxesSubplot(0.125,0.125;0.775x0.755)\n"
     ]
    }
   ],
   "source": [
    "print(trump_freq.most_common(30))\n",
    "print(trump_freq.plot(30))"
   ]
  },
  {
   "cell_type": "code",
   "execution_count": 97,
   "id": "12320578",
   "metadata": {},
   "outputs": [
    {
     "name": "stdout",
     "output_type": "stream",
     "text": [
      "[('america', 20), ('american', 11), ('people', 10), ('country', 9), ('one', 8), ('nation', 8), ('every', 7), ('world', 6), ('great', 6), ('back', 6), ('never', 6), ('new', 6), ('president', 5), ('many', 5), ('today', 5), ('protected', 5), ('across', 5), ('right', 5), ('dreams', 5), ('god', 5), ('make', 5), ('americans', 4), ('thank', 4), ('citizens', 4), ('together', 4), ('power', 4), ('first', 4), ('wealth', 4), ('jobs', 4), ('everyone', 4)]\n"
     ]
    }
   ],
   "source": [
    "trump_30 = trump_freq.most_common(30)\n",
    "print(trump_30)"
   ]
  },
  {
   "cell_type": "code",
   "execution_count": 68,
   "id": "859f871f",
   "metadata": {},
   "outputs": [],
   "source": [
    "import itertools"
   ]
  },
  {
   "cell_type": "code",
   "execution_count": 98,
   "id": "dd3d9441",
   "metadata": {},
   "outputs": [
    {
     "name": "stdout",
     "output_type": "stream",
     "text": [
      "['america', 20, 'american', 11, 'people', 10, 'country', 9, 'one', 8, 'nation', 8, 'every', 7, 'world', 6, 'great', 6, 'back', 6, 'never', 6, 'new', 6, 'president', 5, 'many', 5, 'today', 5, 'protected', 5, 'across', 5, 'right', 5, 'dreams', 5, 'god', 5, 'make', 5, 'americans', 4, 'thank', 4, 'citizens', 4, 'together', 4, 'power', 4, 'first', 4, 'wealth', 4, 'jobs', 4, 'everyone', 4]\n"
     ]
    }
   ],
   "source": [
    "trump_list_30 = list(itertools.chain(*trump_30))\n",
    "print(trump_list_30)"
   ]
  },
  {
   "cell_type": "code",
   "execution_count": 99,
   "id": "7bf7d804",
   "metadata": {},
   "outputs": [
    {
     "name": "stdout",
     "output_type": "stream",
     "text": [
      "['america', 'american', 'people', 'country', 'one', 'nation', 'every', 'world', 'great', 'back', 'never', 'new', 'president', 'many', 'today', 'protected', 'across', 'right', 'dreams', 'god', 'make', 'americans', 'thank', 'citizens', 'together', 'power', 'first', 'wealth', 'jobs', 'everyone']\n"
     ]
    }
   ],
   "source": [
    "final_trump_30 = [i for i in trump_list_30 if not str(i).isnumeric()]\n",
    "print(final_trump_30)"
   ]
  },
  {
   "cell_type": "code",
   "execution_count": 100,
   "id": "c967df21",
   "metadata": {},
   "outputs": [],
   "source": [
    "carter1 = inaugural.raw('1977-Carter.txt')\n",
    "carter_words = inaugural.words('1977-Carter.txt')\n",
    "carter_list = list(carter_words)"
   ]
  },
  {
   "cell_type": "code",
   "execution_count": 101,
   "id": "d6c5afe6",
   "metadata": {},
   "outputs": [],
   "source": [
    "carter_list = [word.lower() for word in carter_list]\n",
    "filtered_carter_speech = [i for i in carter_list if not i in stopwords and i.isalpha()]"
   ]
  },
  {
   "cell_type": "code",
   "execution_count": 102,
   "id": "999259d1",
   "metadata": {},
   "outputs": [
    {
     "name": "stdout",
     "output_type": "stream",
     "text": [
      "<FreqDist with 407 samples and 577 outcomes>\n"
     ]
    }
   ],
   "source": [
    "carter_freq = FreqDist(filtered_carter_speech)\n",
    "print(carter_freq)"
   ]
  },
  {
   "cell_type": "code",
   "execution_count": 103,
   "id": "d576d84a",
   "metadata": {},
   "outputs": [
    {
     "name": "stdout",
     "output_type": "stream",
     "text": [
      "[('nation', 13), ('new', 9), ('must', 8), ('us', 8), ('strength', 7), ('people', 7), ('together', 7), ('spirit', 6), ('world', 6), ('dream', 5), ('human', 5), ('government', 4), ('freedom', 4), ('let', 4), ('say', 3), ('times', 3), ('still', 3), ('president', 3), ('micah', 3), ('moral', 3), ('best', 3), ('american', 3), ('know', 3), ('cannot', 3), ('afford', 3), ('rights', 3), ('strong', 3), ('respect', 3), ('built', 3), ('physical', 2)]\n"
     ]
    },
    {
     "data": {
      "image/png": "[encoded data removed]",
      "text/plain": [
       "<Figure size 432x288 with 1 Axes>"
      ]
     },
     "metadata": {
      "needs_background": "light"
     },
     "output_type": "display_data"
    },
    {
     "name": "stdout",
     "output_type": "stream",
     "text": [
      "AxesSubplot(0.125,0.125;0.775x0.755)\n"
     ]
    }
   ],
   "source": [
    "print(carter_freq.most_common(30))\n",
    "print(carter_freq.plot(30))"
   ]
  },
  {
   "cell_type": "code",
   "execution_count": 107,
   "id": "2720aeca",
   "metadata": {},
   "outputs": [
    {
     "name": "stdout",
     "output_type": "stream",
     "text": [
      "[('nation', 13), ('new', 9), ('must', 8), ('us', 8), ('strength', 7), ('people', 7), ('together', 7), ('spirit', 6), ('world', 6), ('dream', 5), ('human', 5), ('government', 4), ('freedom', 4), ('let', 4), ('say', 3), ('times', 3), ('still', 3), ('president', 3), ('micah', 3), ('moral', 3), ('best', 3), ('american', 3), ('know', 3), ('cannot', 3), ('afford', 3), ('rights', 3), ('strong', 3), ('respect', 3), ('built', 3), ('physical', 2)]\n"
     ]
    }
   ],
   "source": [
    "carter_30 = carter_freq.most_common(30)\n",
    "print(carter_30)"
   ]
  },
  {
   "cell_type": "code",
   "execution_count": 108,
   "id": "ba4af91d",
   "metadata": {},
   "outputs": [
    {
     "name": "stdout",
     "output_type": "stream",
     "text": [
      "['nation', 13, 'new', 9, 'must', 8, 'us', 8, 'strength', 7, 'people', 7, 'together', 7, 'spirit', 6, 'world', 6, 'dream', 5, 'human', 5, 'government', 4, 'freedom', 4, 'let', 4, 'say', 3, 'times', 3, 'still', 3, 'president', 3, 'micah', 3, 'moral', 3, 'best', 3, 'american', 3, 'know', 3, 'cannot', 3, 'afford', 3, 'rights', 3, 'strong', 3, 'respect', 3, 'built', 3, 'physical', 2]\n"
     ]
    }
   ],
   "source": [
    "carter_list_30 = list(itertools.chain(*carter_30))\n",
    "print(carter_list_30)"
   ]
  },
  {
   "cell_type": "code",
   "execution_count": 109,
   "id": "e41ac5b7",
   "metadata": {},
   "outputs": [
    {
     "name": "stdout",
     "output_type": "stream",
     "text": [
      "['nation', 'new', 'must', 'us', 'strength', 'people', 'together', 'spirit', 'world', 'dream', 'human', 'government', 'freedom', 'let', 'say', 'times', 'still', 'president', 'micah', 'moral', 'best', 'american', 'know', 'cannot', 'afford', 'rights', 'strong', 'respect', 'built', 'physical']\n"
     ]
    }
   ],
   "source": [
    "final_carter_30 = [i for i in carter_list_30 if not str(i).isnumeric()]\n",
    "print(final_carter_30)"
   ]
  },
  {
   "cell_type": "code",
   "execution_count": 110,
   "id": "45af1c08",
   "metadata": {},
   "outputs": [],
   "source": [
    "trump_fdist_bigram = list(nltk.bigrams(trump_freq))\n",
    "trump_freq2 = FreqDist(trump_fdist_bigram)"
   ]
  },
  {
   "cell_type": "code",
   "execution_count": 111,
   "id": "cd4f9d37",
   "metadata": {},
   "outputs": [
    {
     "name": "stdout",
     "output_type": "stream",
     "text": [
      "[(('america', 'american'), 1), (('american', 'people'), 1), (('people', 'country'), 1), (('country', 'one'), 1), (('one', 'nation'), 1), (('nation', 'every'), 1), (('every', 'world'), 1), (('world', 'great'), 1), (('great', 'back'), 1), (('back', 'never'), 1), (('never', 'new'), 1), (('new', 'president'), 1), (('president', 'many'), 1), (('many', 'today'), 1), (('today', 'protected'), 1), (('protected', 'across'), 1), (('across', 'right'), 1), (('right', 'dreams'), 1), (('dreams', 'god'), 1), (('god', 'make'), 1), (('make', 'americans'), 1), (('americans', 'thank'), 1), (('thank', 'citizens'), 1), (('citizens', 'together'), 1), (('together', 'power'), 1), (('power', 'first'), 1), (('first', 'wealth'), 1), (('wealth', 'jobs'), 1), (('jobs', 'everyone'), 1), (('everyone', 'day'), 1)]\n"
     ]
    },
    {
     "data": {
      "image/png": "[encoded data removed]",
      "text/plain": [
       "<Figure size 432x288 with 1 Axes>"
      ]
     },
     "metadata": {
      "needs_background": "light"
     },
     "output_type": "display_data"
    },
    {
     "name": "stdout",
     "output_type": "stream",
     "text": [
      "AxesSubplot(0.125,0.125;0.775x0.755)\n"
     ]
    }
   ],
   "source": [
    "print(trump_freq2.most_common(30))\n",
    "print(trump_freq2.plot(30))"
   ]
  },
  {
   "cell_type": "code",
   "execution_count": 48,
   "id": "5685dce9",
   "metadata": {},
   "outputs": [],
   "source": [
    "carter_fdist_bigram = list(nltk.bigrams(carter_freq))\n",
    "carter_freq2 = FreqDist(carter_fdist_bigram)"
   ]
  },
  {
   "cell_type": "code",
   "execution_count": 112,
   "id": "1d2cb03d",
   "metadata": {},
   "outputs": [
    {
     "name": "stdout",
     "output_type": "stream",
     "text": [
      "[(('nation', 'new'), 1), (('new', 'must'), 1), (('must', 'us'), 1), (('us', 'strength'), 1), (('strength', 'people'), 1), (('people', 'together'), 1), (('together', 'spirit'), 1), (('spirit', 'world'), 1), (('world', 'dream'), 1), (('dream', 'human'), 1), (('human', 'government'), 1), (('government', 'freedom'), 1), (('freedom', 'let'), 1), (('let', 'say'), 1), (('say', 'times'), 1), (('times', 'still'), 1), (('still', 'president'), 1), (('president', 'micah'), 1), (('micah', 'moral'), 1), (('moral', 'best'), 1), (('best', 'american'), 1), (('american', 'know'), 1), (('know', 'cannot'), 1), (('cannot', 'afford'), 1), (('afford', 'rights'), 1), (('rights', 'strong'), 1), (('strong', 'respect'), 1), (('respect', 'built'), 1), (('built', 'physical'), 1), (('physical', 'ceremony'), 1)]\n"
     ]
    },
    {
     "data": {
      "image/png": "[encoded data removed]",
      "text/plain": [
       "<Figure size 432x288 with 1 Axes>"
      ]
     },
     "metadata": {
      "needs_background": "light"
     },
     "output_type": "display_data"
    },
    {
     "name": "stdout",
     "output_type": "stream",
     "text": [
      "AxesSubplot(0.125,0.125;0.775x0.755)\n"
     ]
    }
   ],
   "source": [
    "print(carter_freq2.most_common(30))\n",
    "print(carter_freq2.plot(30))"
   ]
  },
  {
   "cell_type": "code",
   "execution_count": 117,
   "id": "a2589b81",
   "metadata": {},
   "outputs": [
    {
     "name": "stdout",
     "output_type": "stream",
     "text": [
      "['american', 'people', 'nation', 'world', 'new', 'president', 'together']\n"
     ]
    }
   ],
   "source": [
    "common_words = []\n",
    "\n",
    "for i in final_trump_30:\n",
    "    if i in final_carter_30:\n",
    "        common_words.append(i)\n",
    "\n",
    "print(common_words)"
   ]
  },
  {
   "cell_type": "code",
   "execution_count": 118,
   "id": "73614f96",
   "metadata": {},
   "outputs": [
    {
     "name": "stdout",
     "output_type": "stream",
     "text": [
      "['must', 'us', 'strength', 'spirit', 'dream', 'human', 'government', 'freedom', 'let', 'say', 'times', 'still', 'micah', 'moral', 'best', 'know', 'cannot', 'afford', 'rights', 'strong', 'respect', 'built', 'physical']\n"
     ]
    }
   ],
   "source": [
    "carter_non_trump = []\n",
    "\n",
    "for i in final_carter_30:\n",
    "    if i not in final_trump_30:\n",
    "        carter_non_trump.append(i)\n",
    "\n",
    "print(carter_non_trump)"
   ]
  },
  {
   "cell_type": "code",
   "execution_count": 144,
   "id": "6f7cfd45",
   "metadata": {},
   "outputs": [
    {
     "name": "stdout",
     "output_type": "stream",
     "text": [
      "must us strength spirit dream human government freedom let say times still micah moral best know cannot afford rights strong respect built physical\n"
     ]
    }
   ],
   "source": [
    "carter_non_trump_str = ' '.join(carter_non_trump)\n",
    "print(carter_non_trump_str)"
   ]
  },
  {
   "cell_type": "code",
   "execution_count": 119,
   "id": "129990c2",
   "metadata": {},
   "outputs": [
    {
     "name": "stdout",
     "output_type": "stream",
     "text": [
      "['america', 'country', 'one', 'every', 'great', 'back', 'never', 'many', 'today', 'protected', 'across', 'right', 'dreams', 'god', 'make', 'americans', 'thank', 'citizens', 'power', 'first', 'wealth', 'jobs', 'everyone']\n"
     ]
    }
   ],
   "source": [
    "trump_non_carter = []\n",
    "\n",
    "for i in final_trump_30:\n",
    "    if i not in final_carter_30:\n",
    "        trump_non_carter.append(i)\n",
    "\n",
    "print(trump_non_carter)"
   ]
  },
  {
   "cell_type": "code",
   "execution_count": 145,
   "id": "3843ae68",
   "metadata": {},
   "outputs": [
    {
     "name": "stdout",
     "output_type": "stream",
     "text": [
      "america country one every great back never many today protected across right dreams god make americans thank citizens power first wealth jobs everyone\n"
     ]
    }
   ],
   "source": [
    "trump_non_carter_str = ' '.join(trump_non_carter)\n",
    "print(trump_non_carter_str)"
   ]
  },
  {
   "cell_type": "code",
   "execution_count": 149,
   "id": "c9d9da67",
   "metadata": {},
   "outputs": [],
   "source": [
    "trump_wholespeech_str = ' '.join(trump_list)\n",
    "carter_wholespeech_str = ' '.join(carter_list)"
   ]
  },
  {
   "cell_type": "code",
   "execution_count": 121,
   "id": "0614e67c",
   "metadata": {},
   "outputs": [
    {
     "name": "stdout",
     "output_type": "stream",
     "text": [
      "Requirement already satisfied: vaderSentiment in c:\\users\\zshar\\anaconda3\\lib\\site-packages (3.3.2)\n",
      "Requirement already satisfied: requests in c:\\users\\zshar\\anaconda3\\lib\\site-packages (from vaderSentiment) (2.25.1)\n",
      "Requirement already satisfied: idna<3,>=2.5 in c:\\users\\zshar\\anaconda3\\lib\\site-packages (from requests->vaderSentiment) (2.10)\n",
      "Requirement already satisfied: certifi>=2017.4.17 in c:\\users\\zshar\\anaconda3\\lib\\site-packages (from requests->vaderSentiment) (2020.12.5)\n",
      "Requirement already satisfied: chardet<5,>=3.0.2 in c:\\users\\zshar\\anaconda3\\lib\\site-packages (from requests->vaderSentiment) (4.0.0)\n",
      "Requirement already satisfied: urllib3<1.27,>=1.21.1 in c:\\users\\zshar\\anaconda3\\lib\\site-packages (from requests->vaderSentiment) (1.26.4)\n"
     ]
    }
   ],
   "source": [
    "!pip install vaderSentiment"
   ]
  },
  {
   "cell_type": "code",
   "execution_count": 123,
   "id": "9c4641fa",
   "metadata": {},
   "outputs": [],
   "source": [
    "from vaderSentiment.vaderSentiment import SentimentIntensityAnalyzer\n",
    "analyser = SentimentIntensityAnalyzer()"
   ]
  },
  {
   "cell_type": "code",
   "execution_count": 146,
   "id": "fca535a3",
   "metadata": {},
   "outputs": [
    {
     "name": "stdout",
     "output_type": "stream",
     "text": [
      "{'neg': 0.071, 'neu': 0.5, 'pos': 0.429, 'compound': 0.9041}\n"
     ]
    }
   ],
   "source": [
    "trump_polscore_30 = analyser.polarity_scores(trump_non_carter_str) #vader sentiment Trump for unique words amongst top 30\n",
    "print(trump_polscore_30)"
   ]
  },
  {
   "cell_type": "code",
   "execution_count": 150,
   "id": "33380a5d",
   "metadata": {},
   "outputs": [
    {
     "name": "stdout",
     "output_type": "stream",
     "text": [
      "{'neg': 0.061, 'neu': 0.737, 'pos': 0.202, 'compound': 0.9998}\n"
     ]
    }
   ],
   "source": [
    "trump_polscore_wholespeech = analyser.polarity_scores(trump_wholespeech_str) #vader sentiment Trump for entire speech\n",
    "print(trump_polscore_wholespeech)"
   ]
  },
  {
   "cell_type": "code",
   "execution_count": 147,
   "id": "dad50e83",
   "metadata": {},
   "outputs": [
    {
     "name": "stdout",
     "output_type": "stream",
     "text": [
      "{'neg': 0.073, 'neu': 0.431, 'pos': 0.496, 'compound': 0.9403}\n"
     ]
    }
   ],
   "source": [
    "carter_polscore_30 = analyser.polarity_scores(carter_non_trump_str) #vader sentiment Carter for unique words amongst top 30\n",
    "print(carter_polscore_30)"
   ]
  },
  {
   "cell_type": "code",
   "execution_count": 151,
   "id": "472b3793",
   "metadata": {},
   "outputs": [
    {
     "name": "stdout",
     "output_type": "stream",
     "text": [
      "{'neg': 0.076, 'neu': 0.673, 'pos': 0.251, 'compound': 0.9999}\n"
     ]
    }
   ],
   "source": [
    "carter_polscore_wholespeech = analyser.polarity_scores(carter_wholespeech_str) #vader sentiment Carter for entire speech\n",
    "print(carter_polscore_wholespeech)"
   ]
  },
  {
   "cell_type": "markdown",
   "id": "9cda2c13",
   "metadata": {},
   "source": [
    "#### As per the 2018 Brookings Survey \"2018 Presidents and Executive Politics Presidential Greatness survey\" of various experts, Donald Trump was ranked the most polarizing president and Jimmy Carter was ranked the least polarizing.  \n",
    "\n",
    "#### I looked at the frequency distributions for the 30 most common words for Trump and Carter\n",
    "\n",
    "#### I then looked at which words were common between them and which were distinct\n",
    "\n",
    "#### The common words include: 'american', 'people', 'nation', 'world', 'new', 'president' and 'together'\n",
    "\n",
    "#### In terms of the unique words to each president amongst their 30 most frequent words, I then conducted a sentiment analysis using vader sentiment.\n",
    "\n",
    "#### In general, both presidents' most common words are skewed highly positive: a compound of 0.9041 for Trump and of 0.9403 for Carter.  \n",
    "\n",
    "#### Polarization is not explicitly the same thing as using positive or negative language; with that said, it is easier to inflame and polarize with inflamatory language, so it's \n",
    "\n",
    "#### When I ran the same analysis for the entire speeches for both presidents, they were both overwhemingly positive. \n",
    "\n",
    "#### There would seem to be a few possible explanations:\n",
    "\n",
    "#### (A) Presidential speeches, even for the most polarizing president, may skew positive.  \n",
    "\n",
    "#### (B) Positive / negative analysis is not the best way to measure polarization \n",
    "\n",
    "#### (C) There may be other non-textual elements of polarization (body language or otherwise) that are not captured by positive/negative textual analysis. \n",
    "\n",
    "\n"
   ]
  },
  {
   "cell_type": "markdown",
   "id": "6617fdb7",
   "metadata": {},
   "source": [
    "### The Pizza Problem\n",
    "\n",
    "45pts"
   ]
  },
  {
   "cell_type": "markdown",
   "id": "582dbba9",
   "metadata": {},
   "source": [
    "Your are super motivated to serve your eventual computer overlords and prove your fealty to them, so you offer, free of charge, to help Elm City Pizza, a local Pizza company, write a script to take online pizza orders.\n",
    "\n",
    "Write a script that when a user enters the correct phone number (203-555-5555), prints \"Elm City Pizza, where we have never had a case of food poisoning that can be proved. My name is Hal, what's your name?\" The user then enters their name. The response should print \"Wow (users name) what an awesome name. What would you like to order?\" and then offers an input statement.\n",
    "\n",
    "The menu is limited. There is pizza and there are salads. If the user asks for anything else print \"Sorry,(users name) we don't have that.\" And then prompts them again with a different input statement, \"How about a super awesome pizza? Take a look at our menu, you'll find its delicious.\"\n",
    "\n",
    "By the way, Elm City Pizza is a vegan pizza restaraunt. Here is the Menu.\n",
    "\n",
    "MENU: Pizza: The Basic: Tomato and Cashew Cream Cheese Small: 6.95 Medium: 8.95 Large 10.90\n",
    "\n",
    "Pizza Toppings (each additional topping, .50): Shitake, Jackfruit, Sweet Potato, Hummus, Chickpeas, Lentils, Tofu, Edamame, Black Bean, Red Cabbage, Cucumber, Tomato, Jicama, Fried Green Tomatoes, Sun Dried Tomatoes,\n",
    "\n",
    "Salads: Vegan Caesar, Vegan Greek, Cucumber_Tumeric_Tomato Small: 4.95 Large: 6.95\n",
    "\n",
    "If the user asks for any meat or if their are any \"normal\" cheese (mozerella, parmesian) on their pizza, the response should be \"Sorry, (user name) but you need to do some more work.\" and severs the contact (breaks the loop), forcing them to \"call back\" (enter the number again). But if they use the same name the output should read \"Sorry (user name) but that's too quick to evolve. Call us back when you have.\" For the evolved, take their order. Prompt the user with \"Anything else?\" They can add what they want until they input, \"No that's it.\" At that point summarize their order, and tell them how much it will cost.\n",
    "\n",
    "Test your code with different conditions. Make sure it cannot be broken by flawed or deliberately malicious user inputs."
   ]
  },
  {
   "cell_type": "code",
   "execution_count": 127,
   "id": "72b7cf79",
   "metadata": {},
   "outputs": [],
   "source": [
    "Menu_items = [\"Pizza\", \"Salad\"]\n",
    "Pizza_types = {\"Pizza\": \"The Basic: Tomato and Cashew Cream Cheese\", \"Pizza Toppings\": [\"Shitake,\", \"Jackfruit\", \"Sweet Potato\", \"Hummus\", \"Chickpeas\", \"Lentils\", \"Tofu\", \"Edamame\", \"Black Bean\", \"Red Cabbage\", \"Cucumber\", \"Tomato\", \"Jicama\", \"Fried Green Tomatoes\", \"Sun Dried Tomato\"]}\n",
    "Pizza_toppings = [\"Shitake\", \"Jackfruit\", \"Sweet Potato\", \"Hummus\", \"Chickpeas\", \"Lentils\", \"Tofu\", \"Edamame\", \"Black Bean\", \"Red Cabbage\", \"Cucumber\", \"Tomato\", \"Jicama\", \"Fried Green Tomatoes\", \"Sun Dried Tomato\"]\n",
    "Pizza_size = [\"Small\", \"Medium\", \"Large\"]\n",
    "Forbidden_pizza = [\"Normal cheese\", \"Mozarella\", \"Parmesian\", \"Meat\", \"Pepperoni\", \"Sausage\"]\n",
    "Salad_types = {\"Salads\": [\"Vegan Caesar\", \"Vegan Greek\", \"Cucumber Tumeric Tomato\"]}\n",
    "Salad_list = [\"Vegan Caesar\", \"Vegan Greek\", \"Cucumber Tumeric Tomato\"]\n",
    "Salad_size = [\"Small\", \"Large\"]\n",
    "User_order = [\"Item1: [], \"]"
   ]
  },
  {
   "cell_type": "code",
   "execution_count": 128,
   "id": "13ca621a",
   "metadata": {},
   "outputs": [],
   "source": [
    "def order_pizza():\n",
    "    print(\"Pizza - The Basic: Tomato and Cashew Cream Cheese. Small: $6.95 Medium: $8.95 Large: $10.90\")\n",
    "    Size_pizza = input(\"What size of pizza would you like? \")\n",
    "    Size_pizza = Size_pizza.title()\n",
    "    while Size_pizza not in Pizza_size:\n",
    "        print(f'Sorry, we only have {Pizza_size}.')\n",
    "        Size_pizza = input(\"What size of pizza would you like? \")\n",
    "        Size_pizza = Size_pizza.title()\n",
    "    User_toppings = []\n",
    "    Topping_item = \"\"\n",
    "    Meat_cheese = 0\n",
    "    while Topping_item != \"Quit\":\n",
    "        print (\"Available Toppings: \")\n",
    "        print (\"  Shitake, Jackfruit, Sweet Potato, Hummus, Chickpeas, Lentils, Tofu, Edamame, Black Bean,\")\n",
    "        print (\"  Red Cabbage, Cucumber, Tomato, Jicama, Fried Green Tomatoes, Sun Dried Tomato\")\n",
    "        Topping_item = input(\"Enter a topping, or 'quit' when done: \")\n",
    "        Topping_item = Topping_item.title()\n",
    "        if Topping_item in Forbidden_pizza:\n",
    "            Meat_cheese = 1\n",
    "            break\n",
    "        elif Topping_item in Pizza_toppings:\n",
    "            if Topping_item in User_toppings:\n",
    "                print('You already entered that topping.  Please try again.')\n",
    "                continue\n",
    "            else:\n",
    "                User_toppings.append(Topping_item)\n",
    " #   print(Size_pizza)\n",
    " #   print(User_toppings)\n",
    "    Cost = 0\n",
    "    if Size_pizza == \"Small\":\n",
    "        Cost = 6.95\n",
    "    elif Size_pizza == \"Medium\":\n",
    "        Cost = 8.95\n",
    "    elif Size_pizza == \"Large\":\n",
    "        Cost = 10.90\n",
    "    Cost = Cost + len(User_toppings)*.5    \n",
    "    \n",
    "    return Size_pizza, User_toppings, Cost, Meat_cheese\n"
   ]
  },
  {
   "cell_type": "code",
   "execution_count": 129,
   "id": "3b0b0238",
   "metadata": {},
   "outputs": [],
   "source": [
    "def order_salad():\n",
    "    Size_salad = input(\"What size of salad would you like?\")\n",
    "    Size_salad = Size_salad.title()\n",
    "    while Size_salad not in Salad_size:\n",
    "        print(f'Sorry, we only have {Salad_size}.')\n",
    "        Size_salad = input(\"What size salad would you like?\")\n",
    "        Size_salad = Size_salad.title()  \n",
    "    Types_salad = input('What kind of salad would you like?')\n",
    "    Types_salad = Types_salad.title()\n",
    "    User_salad = []\n",
    "    if Types_salad not in Salad_list:\n",
    "        print(f'Sorry, we only have the following types {Salad_list}')\n",
    "        Types_salad = input('What kind of salad would you like?')\n",
    "        Types_salad = Types_salad.title()\n",
    "    User_salad.append(Types_salad)\n",
    "    Cost = 0\n",
    "    if Size_salad == \"Small\":\n",
    "        Cost = 4.95\n",
    "    elif Size_salad == \"Large\":\n",
    "        Cost = 6.95\n",
    "    return Size_salad, User_salad, Cost\n"
   ]
  },
  {
   "cell_type": "code",
   "execution_count": 130,
   "id": "5d18a1eb",
   "metadata": {
    "scrolled": true
   },
   "outputs": [
    {
     "name": "stdout",
     "output_type": "stream",
     "text": [
      "Enter the correct number: 203555555\n",
      "Elm City Pizza, where we have never had a case of food poisoning that can be proved. My name is Hal.\n",
      "what's your name?: zubin\n",
      "Wow zubin, what an awesome name.\n",
      "What would you like to order?: pizza\n",
      "Pizza - The Basic: Tomato and Cashew Cream Cheese. Small: $6.95 Medium: $8.95 Large: $10.90\n",
      "What size of pizza would you like? medium\n",
      "Available Toppings: \n",
      "  Shitake, Jackfruit, Sweet Potato, Hummus, Chickpeas, Lentils, Tofu, Edamame, Black Bean,\n",
      "  Red Cabbage, Cucumber, Tomato, Jicama, Fried Green Tomatoes, Sun Dried Tomato\n",
      "Enter a topping, or 'quit' when done: sweet potato\n",
      "Available Toppings: \n",
      "  Shitake, Jackfruit, Sweet Potato, Hummus, Chickpeas, Lentils, Tofu, Edamame, Black Bean,\n",
      "  Red Cabbage, Cucumber, Tomato, Jicama, Fried Green Tomatoes, Sun Dried Tomato\n",
      "Enter a topping, or 'quit' when done: fried green tomatoes\n",
      "Available Toppings: \n",
      "  Shitake, Jackfruit, Sweet Potato, Hummus, Chickpeas, Lentils, Tofu, Edamame, Black Bean,\n",
      "  Red Cabbage, Cucumber, Tomato, Jicama, Fried Green Tomatoes, Sun Dried Tomato\n",
      "Enter a topping, or 'quit' when done: quit\n",
      "Pizza Medium ['Sweet Potato', 'Fried Green Tomatoes'] 9.95\n",
      "[['Pizza', 'Medium', ['Sweet Potato', 'Fried Green Tomatoes'], 9.95]]\n",
      "Would you like to order something else?: salad\n",
      "What size of salad would you like?small\n",
      "What kind of salad would you like?vegan caesar\n",
      "Salad Small ['Vegan Caesar'] 4.95\n",
      "[['Pizza', 'Medium', ['Sweet Potato', 'Fried Green Tomatoes'], 9.95], ['Salad', 'Small', ['Vegan Caesar'], 4.95]]\n",
      "Would you like to order something else?: no\n",
      "Here is your order: [['Pizza', 'Medium', ['Sweet Potato', 'Fried Green Tomatoes'], 9.95], ['Salad', 'Small', ['Vegan Caesar'], 4.95]]\n",
      "Your total cost is: 14.899999999999999\n"
     ]
    }
   ],
   "source": [
    "flag = 0\n",
    "Stored_name = \"\"\n",
    "Meat_cheese = 0\n",
    "\n",
    "while flag == 0:    \n",
    "    Phone_no = input(\"Enter the correct number: \")\n",
    "    if Phone_no != \"203555555\":\n",
    "        print(\"Please try again\")            \n",
    "    elif Phone_no == \"203555555\":\n",
    "        print(\"Elm City Pizza, where we have never had a case of food poisoning that can be proved. My name is Hal.\")\n",
    "        Cust_name = input(\"what's your name?: \")\n",
    "        Name = Cust_name  \n",
    "        if Name == Stored_name and Meat_cheese == 1:\n",
    "            print(f'Sorry {Name} but that is too quick to evolve. Call us back when you have.')\n",
    "            break \n",
    "        print(f'Wow {Name}, what an awesome name.')\n",
    "        Stored_name = Name\n",
    "        Number_lines = 0\n",
    "        List_of_lists = []\n",
    "        Total_cost = 0\n",
    "        while True: \n",
    "            if Number_lines == 0: \n",
    "                Item_order = input(\"What would you like to order?: \")\n",
    "            else:\n",
    "                Item_order = input(\"Would you like to order something else?: \")\n",
    "            Item_order = Item_order.title()\n",
    "            if Item_order[:2] == \"No\": \n",
    "                print(f'Here is your order: {List_of_lists}')\n",
    "                print(f'Your total cost is: {Total_cost}')\n",
    "                flag = 1\n",
    "                break\n",
    "            while Item_order not in Menu_items:\n",
    "                print(f\"Sorry {Name}, we do not have that.  How about a super awesome pizza? Take a look at our menu, you will find its delicious.\")\n",
    "                print(Pizza_types)\n",
    "                print(Salad_types)\n",
    "                Item_order = input(\"What would you like to order?: \")\n",
    "                Item_order = Item_order.title()\n",
    "            if Item_order == \"Pizza\":\n",
    "                P_or_S = \"Pizza\"\n",
    "                Size, Type, Cost, Meat_cheese = order_pizza()\n",
    "                if Meat_cheese == 1:\n",
    "                    print(f'Sorry, {Name} but you need to do some more work.')\n",
    "                    break\n",
    "                Line_list = [P_or_S, Size, Type, Cost]\n",
    "                print(P_or_S, Size, Type, Cost)\n",
    "                Number_lines +=1 \n",
    "                List_of_lists.append(Line_list)\n",
    "                print(List_of_lists)\n",
    "                Total_cost += Cost\n",
    "            elif Item_order == \"Salad\":\n",
    "                P_or_S = \"Salad\"\n",
    "                Size, Type, Cost = order_salad()\n",
    "                Line_list = [P_or_S, Size, Type, Cost]\n",
    "                print(P_or_S, Size, Type, Cost)\n",
    "                Number_lines +=1 \n",
    "                List_of_lists.append(Line_list)\n",
    "                print(List_of_lists)\n",
    "                Total_cost += Cost        \n"
   ]
  },
  {
   "cell_type": "markdown",
   "id": "67c1edfb",
   "metadata": {},
   "source": [
    "### Twitter Developer Account\n",
    "10pts"
   ]
  },
  {
   "cell_type": "markdown",
   "id": "1f7daf4c",
   "metadata": {},
   "source": [
    "Apply for a Twitter development account using your Yale email: https://developer.twitter.com/en/apply-for-access. Paste your twitter handle below."
   ]
  },
  {
   "cell_type": "code",
   "execution_count": null,
   "id": "7652801d",
   "metadata": {},
   "outputs": [],
   "source": [
    "@z_python_z"
   ]
  }
 ],
 "metadata": {
  "kernelspec": {
   "display_name": "Python 3",
   "language": "python",
   "name": "python3"
  },
  "language_info": {
   "codemirror_mode": {
    "name": "ipython",
    "version": 3
   },
   "file_extension": ".py",
   "mimetype": "text/x-python",
   "name": "python",
   "nbconvert_exporter": "python",
   "pygments_lexer": "ipython3",
   "version": "3.8.8"
  }
 },
 "nbformat": 4,
 "nbformat_minor": 5
}
